{
  "nbformat": 4,
  "nbformat_minor": 0,
  "metadata": {
    "colab": {
      "name": "PlotlyDashapp.ipynb",
      "provenance": [],
      "collapsed_sections": []
    },
    "kernelspec": {
      "name": "python3",
      "display_name": "Python 3"
    }
  },
  "cells": [
    {
      "cell_type": "code",
      "metadata": {
        "colab": {
          "base_uri": "https://localhost:8080/"
        },
        "id": "SB_di560jDu0",
        "outputId": "7c3c48ba-9e49-4525-e6db-cfb4f2ea9412"
      },
      "source": [
        "!pip install category_encoders\n",
        "!pip install pdpbox\n",
        "from pdpbox.pdp import pdp_interact, pdp_interact_plot"
      ],
      "execution_count": 1,
      "outputs": [
        {
          "output_type": "stream",
          "text": [
            "Collecting category_encoders\n",
            "\u001b[?25l  Downloading https://files.pythonhosted.org/packages/44/57/fcef41c248701ee62e8325026b90c432adea35555cbc870aff9cfba23727/category_encoders-2.2.2-py2.py3-none-any.whl (80kB)\n",
            "\r\u001b[K     |████                            | 10kB 17.2MB/s eta 0:00:01\r\u001b[K     |████████▏                       | 20kB 17.7MB/s eta 0:00:01\r\u001b[K     |████████████▏                   | 30kB 12.7MB/s eta 0:00:01\r\u001b[K     |████████████████▎               | 40kB 9.1MB/s eta 0:00:01\r\u001b[K     |████████████████████▎           | 51kB 8.5MB/s eta 0:00:01\r\u001b[K     |████████████████████████▍       | 61kB 7.5MB/s eta 0:00:01\r\u001b[K     |████████████████████████████▍   | 71kB 8.5MB/s eta 0:00:01\r\u001b[K     |████████████████████████████████| 81kB 4.8MB/s \n",
            "\u001b[?25hRequirement already satisfied: scikit-learn>=0.20.0 in /usr/local/lib/python3.7/dist-packages (from category_encoders) (0.22.2.post1)\n",
            "Requirement already satisfied: numpy>=1.14.0 in /usr/local/lib/python3.7/dist-packages (from category_encoders) (1.19.5)\n",
            "Requirement already satisfied: patsy>=0.5.1 in /usr/local/lib/python3.7/dist-packages (from category_encoders) (0.5.1)\n",
            "Requirement already satisfied: statsmodels>=0.9.0 in /usr/local/lib/python3.7/dist-packages (from category_encoders) (0.10.2)\n",
            "Requirement already satisfied: pandas>=0.21.1 in /usr/local/lib/python3.7/dist-packages (from category_encoders) (1.1.5)\n",
            "Requirement already satisfied: scipy>=1.0.0 in /usr/local/lib/python3.7/dist-packages (from category_encoders) (1.4.1)\n",
            "Requirement already satisfied: joblib>=0.11 in /usr/local/lib/python3.7/dist-packages (from scikit-learn>=0.20.0->category_encoders) (1.0.1)\n",
            "Requirement already satisfied: six in /usr/local/lib/python3.7/dist-packages (from patsy>=0.5.1->category_encoders) (1.15.0)\n",
            "Requirement already satisfied: python-dateutil>=2.7.3 in /usr/local/lib/python3.7/dist-packages (from pandas>=0.21.1->category_encoders) (2.8.1)\n",
            "Requirement already satisfied: pytz>=2017.2 in /usr/local/lib/python3.7/dist-packages (from pandas>=0.21.1->category_encoders) (2018.9)\n",
            "Installing collected packages: category-encoders\n",
            "Successfully installed category-encoders-2.2.2\n",
            "Collecting pdpbox\n",
            "\u001b[?25l  Downloading https://files.pythonhosted.org/packages/87/23/ac7da5ba1c6c03a87c412e7e7b6e91a10d6ecf4474906c3e736f93940d49/PDPbox-0.2.0.tar.gz (57.7MB)\n",
            "\u001b[K     |████████████████████████████████| 57.7MB 104kB/s \n",
            "\u001b[?25hRequirement already satisfied: pandas in /usr/local/lib/python3.7/dist-packages (from pdpbox) (1.1.5)\n",
            "Requirement already satisfied: numpy in /usr/local/lib/python3.7/dist-packages (from pdpbox) (1.19.5)\n",
            "Requirement already satisfied: scipy in /usr/local/lib/python3.7/dist-packages (from pdpbox) (1.4.1)\n",
            "Requirement already satisfied: matplotlib>=2.1.2 in /usr/local/lib/python3.7/dist-packages (from pdpbox) (3.2.2)\n",
            "Requirement already satisfied: joblib in /usr/local/lib/python3.7/dist-packages (from pdpbox) (1.0.1)\n",
            "Requirement already satisfied: psutil in /usr/local/lib/python3.7/dist-packages (from pdpbox) (5.4.8)\n",
            "Requirement already satisfied: scikit-learn in /usr/local/lib/python3.7/dist-packages (from pdpbox) (0.22.2.post1)\n",
            "Requirement already satisfied: python-dateutil>=2.7.3 in /usr/local/lib/python3.7/dist-packages (from pandas->pdpbox) (2.8.1)\n",
            "Requirement already satisfied: pytz>=2017.2 in /usr/local/lib/python3.7/dist-packages (from pandas->pdpbox) (2018.9)\n",
            "Requirement already satisfied: pyparsing!=2.0.4,!=2.1.2,!=2.1.6,>=2.0.1 in /usr/local/lib/python3.7/dist-packages (from matplotlib>=2.1.2->pdpbox) (2.4.7)\n",
            "Requirement already satisfied: cycler>=0.10 in /usr/local/lib/python3.7/dist-packages (from matplotlib>=2.1.2->pdpbox) (0.10.0)\n",
            "Requirement already satisfied: kiwisolver>=1.0.1 in /usr/local/lib/python3.7/dist-packages (from matplotlib>=2.1.2->pdpbox) (1.3.1)\n",
            "Requirement already satisfied: six>=1.5 in /usr/local/lib/python3.7/dist-packages (from python-dateutil>=2.7.3->pandas->pdpbox) (1.15.0)\n",
            "Building wheels for collected packages: pdpbox\n",
            "  Building wheel for pdpbox (setup.py) ... \u001b[?25l\u001b[?25hdone\n",
            "  Created wheel for pdpbox: filename=PDPbox-0.2.0-cp37-none-any.whl size=57690722 sha256=83bbcd9422fc6d6d7821bf78b13544775c4d25b015bcf3a419e3bbe395f42218\n",
            "  Stored in directory: /root/.cache/pip/wheels/7d/08/51/63fd122b04a2c87d780464eeffb94867c75bd96a64d500a3fe\n",
            "Successfully built pdpbox\n",
            "Installing collected packages: pdpbox\n",
            "Successfully installed pdpbox-0.2.0\n"
          ],
          "name": "stdout"
        }
      ]
    },
    {
      "cell_type": "code",
      "metadata": {
        "id": "5NxwN3z4jL-H"
      },
      "source": [
        "data_url = 'https://query.data.world/s/dbkcq4idvugkfhoyx4ngann5ycr4jl'"
      ],
      "execution_count": 2,
      "outputs": []
    },
    {
      "cell_type": "code",
      "metadata": {
        "id": "qV4D3MGxjNa4"
      },
      "source": [
        "import pandas as pd\n",
        "df = pd.read_csv(data_url)"
      ],
      "execution_count": 3,
      "outputs": []
    },
    {
      "cell_type": "code",
      "metadata": {
        "id": "DsAUY2lujSnM"
      },
      "source": [
        "def wrangle(df):\n",
        "  df = df.copy()\n",
        "\n",
        "  #Drop rows that contain null values in every column\n",
        "  df.dropna(axis=0,how='all', inplace=True)\n",
        "\n",
        "  #Drop rows that contain an outlier value for 'snatch' column where column is 'male'\n",
        "  male_sn = df[(df['gender'] == 'Male') & (df['snatch'] >= 500)].index\n",
        "  df.drop(male_sn , inplace=True)\n",
        "\n",
        "  #Drop rows that contain an outlier value for 'candj' column where column is 'male'\n",
        "  male_cj = df[(df['gender'] == 'Male') & (df['candj'] >= 600)].index\n",
        "  df.drop(male_cj , inplace=True)\n",
        "\n",
        "  #Drop rows that contain an outlier value for 'backsq' column where column is 'male'\n",
        "  male_bsq = df[(df['gender'] == 'Male') & (df['backsq'] >= 1160)].index\n",
        "  df.drop(male_bsq , inplace=True)\n",
        "\n",
        "  #Drop rows that contain an outlier value for 'deadlift' column where column is 'male' I'm eliminating values that are (beyond the world record deadlift\n",
        "  #amount(1110) minus 100 pounds) The reason is that it's not typical for Olympic weightlifters to try or even \n",
        "  male_dl = df[(df['gender'] == 'Male') & (df['deadlift'] >= 1010)].index\n",
        "  df.drop(male_dl , inplace=True)\n",
        "\n",
        "  #Drop rows that contain an outlier value for 'snatch' column where column is 'female'\n",
        "  female_sn = df[(df['gender'] == 'Female') & (df['snatch'] >= 355)].index\n",
        "  df.drop(female_sn , inplace=True)\n",
        "\n",
        "  #Drop rows that contain an outlier value for 'candj' column where column is 'female'\n",
        "  female_cj = df[(df['gender'] == 'Female') & (df['candj'] >= 435)].index\n",
        "  df.drop(female_cj , inplace=True)\n",
        "\n",
        "  #Drop rows that contain an outlier value for 'backsq' column where column is 'female'\n",
        "  female_bsq = df[(df['gender'] == 'Female') & (df['backsq'] >= 603)].index\n",
        "  df.drop(female_bsq , inplace=True)\n",
        "\n",
        "  #Drop rows that contain an outlier value for 'deadlift' column where column is 'female' and again similar to the male deadlift, I am dropping\n",
        "  #outliers that are above the world record female deadlift minus 100 pounds\n",
        "  female_dl = df[(df['gender'] == 'Female') & (df['deadlift'] >= 583)].index\n",
        "  df.drop(female_dl , inplace=True)\n",
        "\n",
        "  df.dropna(subset = ['snatch', 'candj', 'deadlift', 'backsq'], how='any', inplace=True)\n",
        "\n",
        "  #Drop rows that contain an outlier value for 'age' column. I'm definining an outlier value as\n",
        "  # anything above 65. While the sport of Olympic weightlifting is very inclusive and offers competition age divisions for everyone\n",
        "  #it is less meaningful to evaluate competitive \"potential\" in the sport beyond a certain point where there is not much variation in performance.\n",
        "  #Beyond a certain age, simply showing up and competing is remarkable in its own right\n",
        "  age_limit_upper = df[(df['age'] >= 65)].index \n",
        "  df.drop(age_limit_upper, inplace=True)\n",
        " \n",
        "  #Drop rows where the athlete is not an adult\n",
        "  age_limit_lower = df[(df['age'] < 18)].index \n",
        "  df.drop(age_limit_lower, inplace=True)\n",
        "  #Replace the content of background with the number of words it contains\n",
        "  #df['background_count'] = df['background'].str.split(' ').str.len()\n",
        "\n",
        "  #drop rows in candj, snatch, backsq, and deadlift columns that are below the minimum weight of the women's bar\n",
        "  #a severely injured participant who still desire to participate would at least lift the bar without any weights loaded on it\n",
        "  \n",
        "  lift_subset = df[(df['backsq'] <= 33) | (df['deadlift'] <= 33) | (df['candj'] <= 33) | (df['snatch'] <= 33)].index\n",
        "  df.drop(lift_subset, inplace=True)                                                                     \n",
        "                                                       \n",
        "  return df\n",
        "\n"
      ],
      "execution_count": 4,
      "outputs": []
    },
    {
      "cell_type": "code",
      "metadata": {
        "id": "RpGsRGG7jedz"
      },
      "source": [
        "df = wrangle(df)"
      ],
      "execution_count": 5,
      "outputs": []
    },
    {
      "cell_type": "code",
      "metadata": {
        "id": "CLFlOsvLjhna"
      },
      "source": [
        "df[\"clj_to_bsq_ratio\"] = df['candj']/df['backsq']"
      ],
      "execution_count": 6,
      "outputs": []
    },
    {
      "cell_type": "code",
      "metadata": {
        "id": "LLL_JJ-tjlrx"
      },
      "source": [
        "def weightlifting_potential(row):\n",
        "    if row['clj_to_bsq_ratio'] >= .70:\n",
        "        return 'potential'\n",
        "    #elif row['clj_to_bsq_ratio'] < .77 and row['clj_to_bsq_ratio']  >= .72:\n",
        "     #   return 'some potential'\n",
        "    else:\n",
        "        return 'no potential'"
      ],
      "execution_count": 7,
      "outputs": []
    },
    {
      "cell_type": "code",
      "metadata": {
        "id": "fLY3jdwTjoOu"
      },
      "source": [
        "df['talent'] = df.apply(weightlifting_potential, axis=1)"
      ],
      "execution_count": 8,
      "outputs": []
    },
    {
      "cell_type": "code",
      "metadata": {
        "id": "RZGClE3tjrKi"
      },
      "source": [
        "df['sn_clj'] = df['snatch']/df['candj']"
      ],
      "execution_count": 9,
      "outputs": []
    },
    {
      "cell_type": "code",
      "metadata": {
        "id": "RRW5-Cihj2bA"
      },
      "source": [
        "#Create a new column equal to True or False depending on whether or not an athlete described their experience with Crossfit as life changing\n",
        "df['experience_type'] = df['experience'].str.contains('life changing') "
      ],
      "execution_count": 10,
      "outputs": []
    },
    {
      "cell_type": "code",
      "metadata": {
        "id": "f-Tbxw_xj3K-"
      },
      "source": [
        "#Replance NaN values with False. This is an appropriate replacement in my attempts to feature engineer this binary column. If an athlete did not respond to \n",
        "#the question, then the likelihood that they had a profound experience is greatly reduced.\n",
        "df['experience_type'] = df['experience_type'].fillna(False)"
      ],
      "execution_count": 11,
      "outputs": []
    },
    {
      "cell_type": "code",
      "metadata": {
        "id": "B2_T2jijj5fW"
      },
      "source": [
        "def wrangle_two(df):\n",
        "  df = df.copy()\n",
        "  #Create a new column equal to True or False depending on whether or not an athlete described their experience with Crossfit as life changing\n",
        "  df['experience_type'] = df['experience'].str.contains('life changing') \n",
        "  #Replance NaN values with False. This is an appropriate replacement in my attempts to feature engineer this binary column. If an athlete did not respond to \n",
        "  #the question, then the likelihood that they had a profound experience is greatly reduced.\n",
        "  df['experience_type'] = df['experience_type'].fillna(False)\n",
        "  df['experience_type'] = df['experience_type'].astype(int)\n",
        "  df['background_type'] = df['background'].str.contains('no athletic background besides CrossFit') \n",
        "  df['background_type'] = df['background_type'].fillna(False)\n",
        "  df['schedule_type'] = df['schedule'].str.contains('I do multiple workouts in a day 3+ times a week') \n",
        "  df['schedule_type'] = df['schedule_type'].fillna(False)\n",
        "  df['train_description'] = df['train'].str.contains('I workout mostly at a CrossFit Affiliate') \n",
        "  df['train_description'] = df['train_description'].fillna(False)\n",
        "  return df"
      ],
      "execution_count": 12,
      "outputs": []
    },
    {
      "cell_type": "code",
      "metadata": {
        "id": "er8kq1Tlj8Ap"
      },
      "source": [
        "df = wrangle_two(df)"
      ],
      "execution_count": 13,
      "outputs": []
    },
    {
      "cell_type": "code",
      "metadata": {
        "id": "cPHT0QFhkDCv"
      },
      "source": [
        "df = df.drop(columns=['candj', 'backsq', 'retrieved_datetime', 'clj_to_bsq_ratio', 'athlete_id', 'name', 'experience'])"
      ],
      "execution_count": 14,
      "outputs": []
    },
    {
      "cell_type": "code",
      "metadata": {
        "colab": {
          "base_uri": "https://localhost:8080/"
        },
        "id": "P1uDwvrzWRD-",
        "outputId": "2f543e93-25dd-4d54-fcc8-562a4ba4c085"
      },
      "source": [
        "df['experience_type'].dtypes"
      ],
      "execution_count": 15,
      "outputs": [
        {
          "output_type": "execute_result",
          "data": {
            "text/plain": [
              "dtype('int64')"
            ]
          },
          "metadata": {
            "tags": []
          },
          "execution_count": 15
        }
      ]
    },
    {
      "cell_type": "code",
      "metadata": {
        "id": "sMZRVCjYkFi3"
      },
      "source": [
        "df = df.drop(columns=['background', 'schedule', 'train'])"
      ],
      "execution_count": 16,
      "outputs": []
    },
    {
      "cell_type": "code",
      "metadata": {
        "colab": {
          "base_uri": "https://localhost:8080/",
          "height": 581
        },
        "id": "KfG8NemMPxWM",
        "outputId": "706319de-28eb-40e0-b157-01c59da60eb8"
      },
      "source": [
        "df.head()"
      ],
      "execution_count": 17,
      "outputs": [
        {
          "output_type": "execute_result",
          "data": {
            "text/html": [
              "<div>\n",
              "<style scoped>\n",
              "    .dataframe tbody tr th:only-of-type {\n",
              "        vertical-align: middle;\n",
              "    }\n",
              "\n",
              "    .dataframe tbody tr th {\n",
              "        vertical-align: top;\n",
              "    }\n",
              "\n",
              "    .dataframe thead th {\n",
              "        text-align: right;\n",
              "    }\n",
              "</style>\n",
              "<table border=\"1\" class=\"dataframe\">\n",
              "  <thead>\n",
              "    <tr style=\"text-align: right;\">\n",
              "      <th></th>\n",
              "      <th>region</th>\n",
              "      <th>team</th>\n",
              "      <th>affiliate</th>\n",
              "      <th>gender</th>\n",
              "      <th>age</th>\n",
              "      <th>height</th>\n",
              "      <th>weight</th>\n",
              "      <th>fran</th>\n",
              "      <th>helen</th>\n",
              "      <th>grace</th>\n",
              "      <th>filthy50</th>\n",
              "      <th>fgonebad</th>\n",
              "      <th>run400</th>\n",
              "      <th>run5k</th>\n",
              "      <th>snatch</th>\n",
              "      <th>deadlift</th>\n",
              "      <th>pullups</th>\n",
              "      <th>eat</th>\n",
              "      <th>howlong</th>\n",
              "      <th>talent</th>\n",
              "      <th>sn_clj</th>\n",
              "      <th>experience_type</th>\n",
              "      <th>background_type</th>\n",
              "      <th>schedule_type</th>\n",
              "      <th>train_description</th>\n",
              "    </tr>\n",
              "  </thead>\n",
              "  <tbody>\n",
              "    <tr>\n",
              "      <th>3</th>\n",
              "      <td>Southern California</td>\n",
              "      <td>LAX CrossFit</td>\n",
              "      <td>LAX CrossFit</td>\n",
              "      <td>Male</td>\n",
              "      <td>40.0</td>\n",
              "      <td>67.0</td>\n",
              "      <td>NaN</td>\n",
              "      <td>211.0</td>\n",
              "      <td>645.0</td>\n",
              "      <td>300.0</td>\n",
              "      <td>NaN</td>\n",
              "      <td>196.0</td>\n",
              "      <td>NaN</td>\n",
              "      <td>NaN</td>\n",
              "      <td>200.0</td>\n",
              "      <td>375.0</td>\n",
              "      <td>25.0</td>\n",
              "      <td>I eat 1-3 full cheat meals per week|</td>\n",
              "      <td>4+ years|</td>\n",
              "      <td>potential</td>\n",
              "      <td>0.816327</td>\n",
              "      <td>1</td>\n",
              "      <td>False</td>\n",
              "      <td>False</td>\n",
              "      <td>True</td>\n",
              "    </tr>\n",
              "    <tr>\n",
              "      <th>5</th>\n",
              "      <td>NaN</td>\n",
              "      <td>NaN</td>\n",
              "      <td>NaN</td>\n",
              "      <td>Male</td>\n",
              "      <td>37.0</td>\n",
              "      <td>73.0</td>\n",
              "      <td>230.0</td>\n",
              "      <td>NaN</td>\n",
              "      <td>NaN</td>\n",
              "      <td>NaN</td>\n",
              "      <td>NaN</td>\n",
              "      <td>NaN</td>\n",
              "      <td>NaN</td>\n",
              "      <td>NaN</td>\n",
              "      <td>200.0</td>\n",
              "      <td>435.0</td>\n",
              "      <td>NaN</td>\n",
              "      <td>I eat strict Paleo|</td>\n",
              "      <td>4+ years|</td>\n",
              "      <td>no potential</td>\n",
              "      <td>0.754717</td>\n",
              "      <td>1</td>\n",
              "      <td>False</td>\n",
              "      <td>False</td>\n",
              "      <td>True</td>\n",
              "    </tr>\n",
              "    <tr>\n",
              "      <th>9</th>\n",
              "      <td>NaN</td>\n",
              "      <td>NaN</td>\n",
              "      <td>NaN</td>\n",
              "      <td>Male</td>\n",
              "      <td>40.0</td>\n",
              "      <td>68.0</td>\n",
              "      <td>177.0</td>\n",
              "      <td>205.0</td>\n",
              "      <td>614.0</td>\n",
              "      <td>NaN</td>\n",
              "      <td>1647.0</td>\n",
              "      <td>332.0</td>\n",
              "      <td>NaN</td>\n",
              "      <td>1361.0</td>\n",
              "      <td>185.0</td>\n",
              "      <td>365.0</td>\n",
              "      <td>NaN</td>\n",
              "      <td>I eat quality foods but don't measure the amount|</td>\n",
              "      <td>2-4 years|</td>\n",
              "      <td>no potential</td>\n",
              "      <td>0.822222</td>\n",
              "      <td>0</td>\n",
              "      <td>False</td>\n",
              "      <td>False</td>\n",
              "      <td>True</td>\n",
              "    </tr>\n",
              "    <tr>\n",
              "      <th>12</th>\n",
              "      <td>NaN</td>\n",
              "      <td>NaN</td>\n",
              "      <td>NaN</td>\n",
              "      <td>Male</td>\n",
              "      <td>31.0</td>\n",
              "      <td>65.0</td>\n",
              "      <td>150.0</td>\n",
              "      <td>119.0</td>\n",
              "      <td>417.0</td>\n",
              "      <td>103.0</td>\n",
              "      <td>971.0</td>\n",
              "      <td>421.0</td>\n",
              "      <td>61.0</td>\n",
              "      <td>1211.0</td>\n",
              "      <td>225.0</td>\n",
              "      <td>465.0</td>\n",
              "      <td>81.0</td>\n",
              "      <td>I eat quality foods but don't measure the amou...</td>\n",
              "      <td>2-4 years|</td>\n",
              "      <td>potential</td>\n",
              "      <td>0.775862</td>\n",
              "      <td>1</td>\n",
              "      <td>False</td>\n",
              "      <td>False</td>\n",
              "      <td>True</td>\n",
              "    </tr>\n",
              "    <tr>\n",
              "      <th>18</th>\n",
              "      <td>Central East</td>\n",
              "      <td>New Species CrossFit</td>\n",
              "      <td>CrossFit New Species</td>\n",
              "      <td>Male</td>\n",
              "      <td>30.0</td>\n",
              "      <td>70.0</td>\n",
              "      <td>155.0</td>\n",
              "      <td>NaN</td>\n",
              "      <td>544.0</td>\n",
              "      <td>NaN</td>\n",
              "      <td>1455.0</td>\n",
              "      <td>NaN</td>\n",
              "      <td>NaN</td>\n",
              "      <td>1140.0</td>\n",
              "      <td>95.0</td>\n",
              "      <td>335.0</td>\n",
              "      <td>NaN</td>\n",
              "      <td>NaN</td>\n",
              "      <td>NaN</td>\n",
              "      <td>potential</td>\n",
              "      <td>0.542857</td>\n",
              "      <td>0</td>\n",
              "      <td>False</td>\n",
              "      <td>False</td>\n",
              "      <td>False</td>\n",
              "    </tr>\n",
              "  </tbody>\n",
              "</table>\n",
              "</div>"
            ],
            "text/plain": [
              "                 region                  team  ... schedule_type train_description\n",
              "3   Southern California          LAX CrossFit  ...         False              True\n",
              "5                   NaN                   NaN  ...         False              True\n",
              "9                   NaN                   NaN  ...         False              True\n",
              "12                  NaN                   NaN  ...         False              True\n",
              "18         Central East  New Species CrossFit  ...         False             False\n",
              "\n",
              "[5 rows x 25 columns]"
            ]
          },
          "metadata": {
            "tags": []
          },
          "execution_count": 17
        }
      ]
    },
    {
      "cell_type": "code",
      "metadata": {
        "id": "uIYyIHK1kJYJ"
      },
      "source": [
        "target = 'talent'\n",
        "y = df[target]\n",
        "X = df.drop(target, axis=1)"
      ],
      "execution_count": 18,
      "outputs": []
    },
    {
      "cell_type": "code",
      "metadata": {
        "id": "9m76Mo1-kKro"
      },
      "source": [
        "features= ['age', 'snatch', 'deadlift']\n",
        "\n",
        "X_new = X[features]"
      ],
      "execution_count": 19,
      "outputs": []
    },
    {
      "cell_type": "code",
      "metadata": {
        "colab": {
          "base_uri": "https://localhost:8080/"
        },
        "id": "PYojrTxDPHws",
        "outputId": "2981cafd-c5ba-46b2-f68a-07bbc9b5ed6f"
      },
      "source": [
        "X_new.shape"
      ],
      "execution_count": 20,
      "outputs": [
        {
          "output_type": "execute_result",
          "data": {
            "text/plain": [
              "(81154, 3)"
            ]
          },
          "metadata": {
            "tags": []
          },
          "execution_count": 20
        }
      ]
    },
    {
      "cell_type": "code",
      "metadata": {
        "colab": {
          "base_uri": "https://localhost:8080/"
        },
        "id": "mrb64sGlSIN0",
        "outputId": "0f6a0918-cb54-44b8-8b4d-c61481beb592"
      },
      "source": [
        "df['age'].isnull().sum()"
      ],
      "execution_count": 21,
      "outputs": [
        {
          "output_type": "execute_result",
          "data": {
            "text/plain": [
              "0"
            ]
          },
          "metadata": {
            "tags": []
          },
          "execution_count": 21
        }
      ]
    },
    {
      "cell_type": "code",
      "metadata": {
        "colab": {
          "base_uri": "https://localhost:8080/"
        },
        "id": "4GRleWbaSYRe",
        "outputId": "58c159ee-0920-4021-a06b-84ffce280090"
      },
      "source": [
        "df['snatch'].isnull().sum()"
      ],
      "execution_count": 22,
      "outputs": [
        {
          "output_type": "execute_result",
          "data": {
            "text/plain": [
              "0"
            ]
          },
          "metadata": {
            "tags": []
          },
          "execution_count": 22
        }
      ]
    },
    {
      "cell_type": "code",
      "metadata": {
        "colab": {
          "base_uri": "https://localhost:8080/"
        },
        "id": "iF9gr-Q6SbN-",
        "outputId": "25d83172-5f57-468d-94b3-cb70161d44ac"
      },
      "source": [
        "df['snatch'].isnull().sum()"
      ],
      "execution_count": 23,
      "outputs": [
        {
          "output_type": "execute_result",
          "data": {
            "text/plain": [
              "0"
            ]
          },
          "metadata": {
            "tags": []
          },
          "execution_count": 23
        }
      ]
    },
    {
      "cell_type": "code",
      "metadata": {
        "colab": {
          "base_uri": "https://localhost:8080/"
        },
        "id": "4Qb9nATiSgFx",
        "outputId": "a387d417-e97c-4809-b15e-a0ce2de18b2a"
      },
      "source": [
        "df['experience_type'].isnull().sum()"
      ],
      "execution_count": 24,
      "outputs": [
        {
          "output_type": "execute_result",
          "data": {
            "text/plain": [
              "0"
            ]
          },
          "metadata": {
            "tags": []
          },
          "execution_count": 24
        }
      ]
    },
    {
      "cell_type": "code",
      "metadata": {
        "id": "dP6zVCF-kNN9"
      },
      "source": [
        "# Import the train_test_split utility\n",
        "#from sklearn.model_selection import train_test_split\n",
        "# Create the \"remaining\" and test datasets\n",
        "from sklearn.model_selection import train_test_split\n",
        "\n",
        "X_initial_train, X_test, y_initial_train, y_test = train_test_split(\n",
        "    X_new, y, test_size=0.2, random_state=42)"
      ],
      "execution_count": 25,
      "outputs": []
    },
    {
      "cell_type": "code",
      "metadata": {
        "id": "MdiR3-r-kPsU"
      },
      "source": [
        "# Create the train and validation datasets\n",
        "X_train, X_val, y_train, y_val = train_test_split(\n",
        "    X_initial_train, y_initial_train, test_size=0.2, random_state=42)"
      ],
      "execution_count": 26,
      "outputs": []
    },
    {
      "cell_type": "code",
      "metadata": {
        "id": "5iA3ApWikh0n"
      },
      "source": [
        "from sklearn.impute import SimpleImputer\n",
        "from category_encoders import OrdinalEncoder\n",
        "from xgboost import XGBClassifier\n",
        "from sklearn.pipeline import make_pipeline"
      ],
      "execution_count": 27,
      "outputs": []
    },
    {
      "cell_type": "code",
      "metadata": {
        "colab": {
          "base_uri": "https://localhost:8080/"
        },
        "id": "qH0R0H5r9SJU",
        "outputId": "ed35bc18-aa7a-4dad-e750-44f8f2e8dbdc"
      },
      "source": [
        "pipeline = make_pipeline(\n",
        "    OrdinalEncoder(),\n",
        "    XGBClassifier(random_state=41, n_jobs=-1)\n",
        ")\n",
        "\n",
        "pipeline.fit(X_train, y_train)"
      ],
      "execution_count": 28,
      "outputs": [
        {
          "output_type": "execute_result",
          "data": {
            "text/plain": [
              "Pipeline(memory=None,\n",
              "         steps=[('ordinalencoder',\n",
              "                 OrdinalEncoder(cols=[], drop_invariant=False,\n",
              "                                handle_missing='value', handle_unknown='value',\n",
              "                                mapping=[], return_df=True, verbose=0)),\n",
              "                ('xgbclassifier',\n",
              "                 XGBClassifier(base_score=0.5, booster='gbtree',\n",
              "                               colsample_bylevel=1, colsample_bynode=1,\n",
              "                               colsample_bytree=1, gamma=0, learning_rate=0.1,\n",
              "                               max_delta_step=0, max_depth=3,\n",
              "                               min_child_weight=1, missing=None,\n",
              "                               n_estimators=100, n_jobs=-1, nthread=None,\n",
              "                               objective='binary:logistic', random_state=41,\n",
              "                               reg_alpha=0, reg_lambda=1, scale_pos_weight=1,\n",
              "                               seed=None, silent=None, subsample=1,\n",
              "                               verbosity=1))],\n",
              "         verbose=False)"
            ]
          },
          "metadata": {
            "tags": []
          },
          "execution_count": 28
        }
      ]
    },
    {
      "cell_type": "code",
      "metadata": {
        "colab": {
          "base_uri": "https://localhost:8080/",
          "height": 649
        },
        "id": "GfRUm6RjXwLE",
        "outputId": "91417f81-2289-43f2-bf2c-13713fec6767"
      },
      "source": [
        "features= ['deadlift', 'snatch']\n",
        "\n",
        "interact= pdp_interact(\n",
        "    model=pipeline,\n",
        "    dataset=X_test,\n",
        "    model_features=X_test.columns,\n",
        "    features=features\n",
        ")\n",
        "\n",
        "pdp_interact_plot(interact, plot_type='grid', feature_names=features);"
      ],
      "execution_count": 29,
      "outputs": [
        {
          "output_type": "stream",
          "text": [
            "findfont: Font family ['Arial'] not found. Falling back to DejaVu Sans.\n",
            "findfont: Font family ['Arial'] not found. Falling back to DejaVu Sans.\n",
            "findfont: Font family ['Arial'] not found. Falling back to DejaVu Sans.\n",
            "findfont: Font family ['Arial'] not found. Falling back to DejaVu Sans.\n"
          ],
          "name": "stderr"
        },
        {
          "output_type": "display_data",
          "data": {
            "image/png": "[encoded data removed]",
            "text/plain": [
              "<Figure size 540x684 with 3 Axes>"
            ]
          },
          "metadata": {
            "tags": [],
            "needs_background": "light"
          }
        }
      ]
    },
    {
      "cell_type": "code",
      "metadata": {
        "colab": {
          "base_uri": "https://localhost:8080/"
        },
        "id": "l05V9wAfkzft",
        "outputId": "cd7befcc-b25c-4b69-f91b-60e30c0034b4"
      },
      "source": [
        "from joblib import dump\n",
        "dump(pipeline, 'pipeline.joblib', compress=True)"
      ],
      "execution_count": 30,
      "outputs": [
        {
          "output_type": "execute_result",
          "data": {
            "text/plain": [
              "['pipeline.joblib']"
            ]
          },
          "metadata": {
            "tags": []
          },
          "execution_count": 30
        }
      ]
    },
    {
      "cell_type": "code",
      "metadata": {
        "colab": {
          "base_uri": "https://localhost:8080/"
        },
        "id": "ttgeEWaVlCT9",
        "outputId": "5c65508e-4cb6-4d50-9ff1-a78126828429"
      },
      "source": [
        "import joblib\n",
        "import sklearn\n",
        "import category_encoders as ce\n",
        "import xgboost\n",
        "print(f'joblib=={joblib.__version__}')\n",
        "print(f'scikit-learn=={sklearn.__version__}')\n",
        "print(f'category_encoders=={ce.__version__}')\n",
        "print(f'xgboost=={xgboost.__version__}')"
      ],
      "execution_count": 31,
      "outputs": [
        {
          "output_type": "stream",
          "text": [
            "joblib==1.0.1\n",
            "scikit-learn==0.22.2.post1\n",
            "category_encoders==2.2.2\n",
            "xgboost==0.90\n"
          ],
          "name": "stdout"
        }
      ]
    },
    {
      "cell_type": "code",
      "metadata": {
        "colab": {
          "base_uri": "https://localhost:8080/"
        },
        "id": "0vB0vLrNoeaH",
        "outputId": "0a16cff2-8316-41af-ab18-d14fced720d5"
      },
      "source": [
        "from sklearn.metrics import accuracy_score\n",
        "test_acc =  accuracy_score(y_test, pipeline.predict(X_test))\n",
        "\n",
        "print('Testing Accuracy Score:', test_acc)"
      ],
      "execution_count": 32,
      "outputs": [
        {
          "output_type": "stream",
          "text": [
            "Testing Accuracy Score: 0.6392705316986015\n"
          ],
          "name": "stdout"
        }
      ]
    },
    {
      "cell_type": "code",
      "metadata": {
        "id": "j8NbXIp4lIRr",
        "colab": {
          "base_uri": "https://localhost:8080/",
          "height": 17
        },
        "outputId": "2fc24c63-fb55-4d66-b823-6bca10eef37e"
      },
      "source": [
        "from google.colab import files\n",
        "files.download('pipeline.joblib')"
      ],
      "execution_count": 33,
      "outputs": [
        {
          "output_type": "display_data",
          "data": {
            "application/javascript": [
              "\n",
              "    async function download(id, filename, size) {\n",
              "      if (!google.colab.kernel.accessAllowed) {\n",
              "        return;\n",
              "      }\n",
              "      const div = document.createElement('div');\n",
              "      const label = document.createElement('label');\n",
              "      label.textContent = `Downloading \"${filename}\": `;\n",
              "      div.appendChild(label);\n",
              "      const progress = document.createElement('progress');\n",
              "      progress.max = size;\n",
              "      div.appendChild(progress);\n",
              "      document.body.appendChild(div);\n",
              "\n",
              "      const buffers = [];\n",
              "      let downloaded = 0;\n",
              "\n",
              "      const channel = await google.colab.kernel.comms.open(id);\n",
              "      // Send a message to notify the kernel that we're ready.\n",
              "      channel.send({})\n",
              "\n",
              "      for await (const message of channel.messages) {\n",
              "        // Send a message to notify the kernel that we're ready.\n",
              "        channel.send({})\n",
              "        if (message.buffers) {\n",
              "          for (const buffer of message.buffers) {\n",
              "            buffers.push(buffer);\n",
              "            downloaded += buffer.byteLength;\n",
              "            progress.value = downloaded;\n",
              "          }\n",
              "        }\n",
              "      }\n",
              "      const blob = new Blob(buffers, {type: 'application/binary'});\n",
              "      const a = document.createElement('a');\n",
              "      a.href = window.URL.createObjectURL(blob);\n",
              "      a.download = filename;\n",
              "      div.appendChild(a);\n",
              "      a.click();\n",
              "      div.remove();\n",
              "    }\n",
              "  "
            ],
            "text/plain": [
              "<IPython.core.display.Javascript object>"
            ]
          },
          "metadata": {
            "tags": []
          }
        },
        {
          "output_type": "display_data",
          "data": {
            "application/javascript": [
              "download(\"download_41850f97-87b4-4c11-818d-666e5101be20\", \"pipeline.joblib\", 25567)"
            ],
            "text/plain": [
              "<IPython.core.display.Javascript object>"
            ]
          },
          "metadata": {
            "tags": []
          }
        }
      ]
    }
  ]
}