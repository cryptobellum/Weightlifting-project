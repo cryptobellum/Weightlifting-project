{
  "nbformat": 4,
  "nbformat_minor": 0,
  "metadata": {
    "accelerator": "GPU",
    "colab": {
      "name": "Unit-2-Build-Week-Crossfit.ipynb",
      "provenance": [],
      "collapsed_sections": [],
      "machine_shape": "hm",
      "authorship_tag": "ABX9TyMG/MrdaUxrkdNyxEtQ/3Sa",
      "include_colab_link": true
    },
    "kernelspec": {
      "display_name": "Python 3",
      "name": "python3"
    }
  },
  "cells": [
    {
      "cell_type": "markdown",
      "metadata": {
        "id": "view-in-github",
        "colab_type": "text"
      },
      "source": [
        "<a href=\"https://colab.research.google.com/github/cryptobellum/Unit-2-Build-week-app/blob/main/Unit_2_Build_Week_Crossfit.ipynb\" target=\"_parent\"><img src=\"https://colab.research.google.com/assets/colab-badge.svg\" alt=\"Open In Colab\"/></a>"
      ]
    },
    {
      "cell_type": "markdown",
      "metadata": {
        "id": "sWR3kz2IZeGV"
      },
      "source": [
        "# **Which Crossfit Athletes Have Competitive Potential in the Sport of Weightlifting?**"
      ]
    },
    {
      "cell_type": "markdown",
      "metadata": {
        "id": "weUwO_qfGy86"
      },
      "source": [
        "**Links:** Blog: https://medium.com/@Cryptobellum/which-crossfit-athletes-have-competitive-potential-for-the-sport-of-weightlifting-4d233cca44dd"
      ]
    },
    {
      "cell_type": "markdown",
      "metadata": {
        "id": "oEabK3lzS7XX"
      },
      "source": [
        "Dataset originally compiled by Sam Swift and later made available by Brandon Gadoci at https://data.world/bgadoci/crossfit-data"
      ]
    },
    {
      "cell_type": "code",
      "metadata": {
        "id": "4c8OtY2h1e3A"
      },
      "source": [
        "%%capture\n",
        "!pip install category_encoders\n",
        "!pip install pdpbox\n",
        "\n",
        "from sklearn.model_selection import train_test_split\n",
        "from sklearn.pipeline import make_pipeline\n",
        "import category_encoders as ce \n",
        "from sklearn.linear_model import LogisticRegression\n",
        "from category_encoders import OrdinalEncoder\n",
        "from sklearn.impute import SimpleImputer\n",
        "from sklearn.metrics import accuracy_score\n",
        "from sklearn.ensemble import RandomForestClassifier\n",
        "from sklearn.impute import SimpleImputer\n",
        "from category_encoders import OrdinalEncoder\n",
        "import matplotlib.pyplot as plt\n",
        "from sklearn.metrics import plot_confusion_matrix, classification_report\n",
        "from sklearn.ensemble import RandomForestClassifier\n",
        "from sklearn.impute import SimpleImputer\n",
        "from sklearn.pipeline import make_pipeline\n",
        "from category_encoders import OrdinalEncoder\n",
        "from xgboost import XGBClassifier\n",
        "from sklearn.impute import SimpleImputer\n",
        "from sklearn.pipeline import make_pipeline\n",
        "from category_encoders import OrdinalEncoder\n",
        "from pdpbox.pdp import pdp_isolate, pdp_plot\n",
        "from pdpbox.pdp import pdp_interact, pdp_interact_plot\n",
        "from sklearn.model_selection import GridSearchCV, RandomizedSearchCV\n",
        "import numpy as np"
      ],
      "execution_count": 1,
      "outputs": []
    },
    {
      "cell_type": "code",
      "metadata": {
        "id": "wUaqDPIkt27I"
      },
      "source": [
        "data_url = 'https://query.data.world/s/dbkcq4idvugkfhoyx4ngann5ycr4jl'"
      ],
      "execution_count": 2,
      "outputs": []
    },
    {
      "cell_type": "code",
      "metadata": {
        "id": "Ttt5sbgFt-uT"
      },
      "source": [
        "import pandas as pd\n",
        "df = pd.read_csv(data_url)"
      ],
      "execution_count": 3,
      "outputs": []
    },
    {
      "cell_type": "code",
      "metadata": {
        "colab": {
          "base_uri": "https://localhost:8080/",
          "height": 564
        },
        "id": "Tc_S6AawuCV_",
        "outputId": "485c9ac1-8180-473e-e9c8-7042ca95877d"
      },
      "source": [
        "print(df.shape)\n",
        "df.head()"
      ],
      "execution_count": 4,
      "outputs": [
        {
          "output_type": "stream",
          "text": [
            "(423006, 28)\n"
          ],
          "name": "stdout"
        },
        {
          "output_type": "execute_result",
          "data": {
            "text/html": [
              "<div>\n",
              "<style scoped>\n",
              "    .dataframe tbody tr th:only-of-type {\n",
              "        vertical-align: middle;\n",
              "    }\n",
              "\n",
              "    .dataframe tbody tr th {\n",
              "        vertical-align: top;\n",
              "    }\n",
              "\n",
              "    .dataframe thead th {\n",
              "        text-align: right;\n",
              "    }\n",
              "</style>\n",
              "<table border=\"1\" class=\"dataframe\">\n",
              "  <thead>\n",
              "    <tr style=\"text-align: right;\">\n",
              "      <th></th>\n",
              "      <th>athlete_id</th>\n",
              "      <th>name</th>\n",
              "      <th>region</th>\n",
              "      <th>team</th>\n",
              "      <th>affiliate</th>\n",
              "      <th>gender</th>\n",
              "      <th>age</th>\n",
              "      <th>height</th>\n",
              "      <th>weight</th>\n",
              "      <th>fran</th>\n",
              "      <th>helen</th>\n",
              "      <th>grace</th>\n",
              "      <th>filthy50</th>\n",
              "      <th>fgonebad</th>\n",
              "      <th>run400</th>\n",
              "      <th>run5k</th>\n",
              "      <th>candj</th>\n",
              "      <th>snatch</th>\n",
              "      <th>deadlift</th>\n",
              "      <th>backsq</th>\n",
              "      <th>pullups</th>\n",
              "      <th>eat</th>\n",
              "      <th>train</th>\n",
              "      <th>background</th>\n",
              "      <th>experience</th>\n",
              "      <th>schedule</th>\n",
              "      <th>howlong</th>\n",
              "      <th>retrieved_datetime</th>\n",
              "    </tr>\n",
              "  </thead>\n",
              "  <tbody>\n",
              "    <tr>\n",
              "      <th>0</th>\n",
              "      <td>2554.0</td>\n",
              "      <td>Pj Ablang</td>\n",
              "      <td>South West</td>\n",
              "      <td>Double Edge</td>\n",
              "      <td>Double Edge CrossFit</td>\n",
              "      <td>Male</td>\n",
              "      <td>24.0</td>\n",
              "      <td>70.0</td>\n",
              "      <td>166.0</td>\n",
              "      <td>NaN</td>\n",
              "      <td>NaN</td>\n",
              "      <td>NaN</td>\n",
              "      <td>NaN</td>\n",
              "      <td>NaN</td>\n",
              "      <td>NaN</td>\n",
              "      <td>NaN</td>\n",
              "      <td>220.0</td>\n",
              "      <td>NaN</td>\n",
              "      <td>400.0</td>\n",
              "      <td>305.0</td>\n",
              "      <td>NaN</td>\n",
              "      <td>NaN</td>\n",
              "      <td>I workout mostly at a CrossFit Affiliate|I hav...</td>\n",
              "      <td>I played youth or high school level sports|I r...</td>\n",
              "      <td>I began CrossFit with a coach (e.g. at an affi...</td>\n",
              "      <td>I do multiple workouts in a day 2x a week|</td>\n",
              "      <td>4+ years|</td>\n",
              "      <td>NaN</td>\n",
              "    </tr>\n",
              "    <tr>\n",
              "      <th>1</th>\n",
              "      <td>3517.0</td>\n",
              "      <td>Derek Abdella</td>\n",
              "      <td>NaN</td>\n",
              "      <td>NaN</td>\n",
              "      <td>NaN</td>\n",
              "      <td>Male</td>\n",
              "      <td>42.0</td>\n",
              "      <td>70.0</td>\n",
              "      <td>190.0</td>\n",
              "      <td>NaN</td>\n",
              "      <td>NaN</td>\n",
              "      <td>NaN</td>\n",
              "      <td>NaN</td>\n",
              "      <td>0.0</td>\n",
              "      <td>NaN</td>\n",
              "      <td>NaN</td>\n",
              "      <td>NaN</td>\n",
              "      <td>NaN</td>\n",
              "      <td>NaN</td>\n",
              "      <td>NaN</td>\n",
              "      <td>NaN</td>\n",
              "      <td>NaN</td>\n",
              "      <td>I have a coach who determines my programming|I...</td>\n",
              "      <td>I played youth or high school level sports|</td>\n",
              "      <td>I began CrossFit with a coach (e.g. at an affi...</td>\n",
              "      <td>I do multiple workouts in a day 2x a week|</td>\n",
              "      <td>4+ years|</td>\n",
              "      <td>NaN</td>\n",
              "    </tr>\n",
              "    <tr>\n",
              "      <th>2</th>\n",
              "      <td>4691.0</td>\n",
              "      <td>NaN</td>\n",
              "      <td>NaN</td>\n",
              "      <td>NaN</td>\n",
              "      <td>NaN</td>\n",
              "      <td>NaN</td>\n",
              "      <td>NaN</td>\n",
              "      <td>NaN</td>\n",
              "      <td>NaN</td>\n",
              "      <td>NaN</td>\n",
              "      <td>NaN</td>\n",
              "      <td>NaN</td>\n",
              "      <td>NaN</td>\n",
              "      <td>NaN</td>\n",
              "      <td>NaN</td>\n",
              "      <td>NaN</td>\n",
              "      <td>NaN</td>\n",
              "      <td>NaN</td>\n",
              "      <td>NaN</td>\n",
              "      <td>NaN</td>\n",
              "      <td>NaN</td>\n",
              "      <td>NaN</td>\n",
              "      <td>NaN</td>\n",
              "      <td>NaN</td>\n",
              "      <td>NaN</td>\n",
              "      <td>NaN</td>\n",
              "      <td>NaN</td>\n",
              "      <td>NaN</td>\n",
              "    </tr>\n",
              "    <tr>\n",
              "      <th>3</th>\n",
              "      <td>5164.0</td>\n",
              "      <td>Abo Brandon</td>\n",
              "      <td>Southern California</td>\n",
              "      <td>LAX CrossFit</td>\n",
              "      <td>LAX CrossFit</td>\n",
              "      <td>Male</td>\n",
              "      <td>40.0</td>\n",
              "      <td>67.0</td>\n",
              "      <td>NaN</td>\n",
              "      <td>211.0</td>\n",
              "      <td>645.0</td>\n",
              "      <td>300.0</td>\n",
              "      <td>NaN</td>\n",
              "      <td>196.0</td>\n",
              "      <td>NaN</td>\n",
              "      <td>NaN</td>\n",
              "      <td>245.0</td>\n",
              "      <td>200.0</td>\n",
              "      <td>375.0</td>\n",
              "      <td>325.0</td>\n",
              "      <td>25.0</td>\n",
              "      <td>I eat 1-3 full cheat meals per week|</td>\n",
              "      <td>I workout mostly at a CrossFit Affiliate|I hav...</td>\n",
              "      <td>I played youth or high school level sports|</td>\n",
              "      <td>I began CrossFit by trying it alone (without a...</td>\n",
              "      <td>I usually only do 1 workout a day|</td>\n",
              "      <td>4+ years|</td>\n",
              "      <td>NaN</td>\n",
              "    </tr>\n",
              "    <tr>\n",
              "      <th>4</th>\n",
              "      <td>5286.0</td>\n",
              "      <td>Bryce Abbey</td>\n",
              "      <td>NaN</td>\n",
              "      <td>NaN</td>\n",
              "      <td>NaN</td>\n",
              "      <td>Male</td>\n",
              "      <td>32.0</td>\n",
              "      <td>65.0</td>\n",
              "      <td>149.0</td>\n",
              "      <td>206.0</td>\n",
              "      <td>465.0</td>\n",
              "      <td>NaN</td>\n",
              "      <td>1053.0</td>\n",
              "      <td>NaN</td>\n",
              "      <td>NaN</td>\n",
              "      <td>1081.0</td>\n",
              "      <td>205.0</td>\n",
              "      <td>150.0</td>\n",
              "      <td>NaN</td>\n",
              "      <td>325.0</td>\n",
              "      <td>50.0</td>\n",
              "      <td>I eat quality foods but don't measure the amount|</td>\n",
              "      <td>I workout mostly at a CrossFit Affiliate|I inc...</td>\n",
              "      <td>I played college sports|</td>\n",
              "      <td>I began CrossFit by trying it alone (without a...</td>\n",
              "      <td>I usually only do 1 workout a day|I strictly s...</td>\n",
              "      <td>1-2 years|</td>\n",
              "      <td>NaN</td>\n",
              "    </tr>\n",
              "  </tbody>\n",
              "</table>\n",
              "</div>"
            ],
            "text/plain": [
              "   athlete_id           name  ...     howlong retrieved_datetime\n",
              "0      2554.0      Pj Ablang  ...   4+ years|                NaN\n",
              "1      3517.0  Derek Abdella  ...   4+ years|                NaN\n",
              "2      4691.0            NaN  ...         NaN                NaN\n",
              "3      5164.0    Abo Brandon  ...   4+ years|                NaN\n",
              "4      5286.0    Bryce Abbey  ...  1-2 years|                NaN\n",
              "\n",
              "[5 rows x 28 columns]"
            ]
          },
          "metadata": {
            "tags": []
          },
          "execution_count": 4
        }
      ]
    },
    {
      "cell_type": "code",
      "metadata": {
        "id": "jwYirWhiaNH3"
      },
      "source": [
        "#Generate Pandas Profiling Report\n",
        "#!pip install pandas-profiling==2.*\n",
        "#import pandas_profiling\n",
        "#df.profile_report()"
      ],
      "execution_count": 5,
      "outputs": []
    },
    {
      "cell_type": "code",
      "metadata": {
        "colab": {
          "base_uri": "https://localhost:8080/"
        },
        "id": "ceSWlNAquI32",
        "outputId": "0e3b45c8-3594-49cd-fbff-55eb8a8c56c8"
      },
      "source": [
        "df.info()"
      ],
      "execution_count": 6,
      "outputs": [
        {
          "output_type": "stream",
          "text": [
            "<class 'pandas.core.frame.DataFrame'>\n",
            "RangeIndex: 423006 entries, 0 to 423005\n",
            "Data columns (total 28 columns):\n",
            " #   Column              Non-Null Count   Dtype  \n",
            "---  ------              --------------   -----  \n",
            " 0   athlete_id          423003 non-null  float64\n",
            " 1   name                331110 non-null  object \n",
            " 2   region              251262 non-null  object \n",
            " 3   team                155160 non-null  object \n",
            " 4   affiliate           241916 non-null  object \n",
            " 5   gender              331110 non-null  object \n",
            " 6   age                 331110 non-null  float64\n",
            " 7   height              159869 non-null  float64\n",
            " 8   weight              229890 non-null  float64\n",
            " 9   fran                55426 non-null   float64\n",
            " 10  helen               30279 non-null   float64\n",
            " 11  grace               40745 non-null   float64\n",
            " 12  filthy50            19359 non-null   float64\n",
            " 13  fgonebad            29738 non-null   float64\n",
            " 14  run400              22246 non-null   float64\n",
            " 15  run5k               36097 non-null   float64\n",
            " 16  candj               104435 non-null  float64\n",
            " 17  snatch              97280 non-null   float64\n",
            " 18  deadlift            115323 non-null  float64\n",
            " 19  backsq              110517 non-null  float64\n",
            " 20  pullups             50608 non-null   float64\n",
            " 21  eat                 93932 non-null   object \n",
            " 22  train               105831 non-null  object \n",
            " 23  background          98945 non-null   object \n",
            " 24  experience          104936 non-null  object \n",
            " 25  schedule            97875 non-null   object \n",
            " 26  howlong             109206 non-null  object \n",
            " 27  retrieved_datetime  308945 non-null  object \n",
            "dtypes: float64(16), object(12)\n",
            "memory usage: 90.4+ MB\n"
          ],
          "name": "stdout"
        }
      ]
    },
    {
      "cell_type": "code",
      "metadata": {
        "colab": {
          "base_uri": "https://localhost:8080/"
        },
        "id": "IjpM2MdzuObJ",
        "outputId": "f0b9c689-1eea-4a34-a2b3-b35ca9917f38"
      },
      "source": [
        "df.select_dtypes('object').nunique().sort_values()"
      ],
      "execution_count": 7,
      "outputs": [
        {
          "output_type": "execute_result",
          "data": {
            "text/plain": [
              "gender                     3\n",
              "region                    17\n",
              "howlong                   30\n",
              "background                43\n",
              "eat                       47\n",
              "train                     83\n",
              "experience                84\n",
              "schedule                 134\n",
              "team                    4532\n",
              "affiliate               9778\n",
              "retrieved_datetime    190785\n",
              "name                  306752\n",
              "dtype: int64"
            ]
          },
          "metadata": {
            "tags": []
          },
          "execution_count": 7
        }
      ]
    },
    {
      "cell_type": "code",
      "metadata": {
        "colab": {
          "base_uri": "https://localhost:8080/"
        },
        "id": "QzDwvBjUuTsp",
        "outputId": "62aa0e64-e597-421d-9619-c74c3c6fef3d"
      },
      "source": [
        "df['deadlift'].value_counts()"
      ],
      "execution_count": 8,
      "outputs": [
        {
          "output_type": "execute_result",
          "data": {
            "text/plain": [
              "405.0     5228\n",
              "0.0       3685\n",
              "365.0     3359\n",
              "375.0     3305\n",
              "425.0     2948\n",
              "          ... \n",
              "101.0        1\n",
              "87.0         1\n",
              "59.0         1\n",
              "1225.0       1\n",
              "371.0        1\n",
              "Name: deadlift, Length: 629, dtype: int64"
            ]
          },
          "metadata": {
            "tags": []
          },
          "execution_count": 8
        }
      ]
    },
    {
      "cell_type": "code",
      "metadata": {
        "colab": {
          "base_uri": "https://localhost:8080/"
        },
        "id": "oKds5tyxhstA",
        "outputId": "56c451f3-e405-43c3-dde4-c98a47e383ae"
      },
      "source": [
        "#determining outliers for Olympic lifts (snatch and clean and jerk) and compound lifts(back squat and deadlift)\n",
        "print(df.loc[df['gender'] == 'Female', 'deadlift'].min())\n",
        "print(df.loc[df['gender'] == 'Female', 'deadlift'].max())\n",
        "print(df.loc[df['gender'] == 'Male', 'deadlift'].min())\n",
        "print(df.loc[df['gender'] == 'Male', 'deadlift'].max())\n",
        "print(df.loc[df['gender'] == 'Female', 'backsq'].min())\n",
        "print(df.loc[df['gender'] == 'Female', 'backsq'].max())\n",
        "print(df.loc[df['gender'] == 'Male', 'backsq'].min())\n",
        "print(df.loc[df['gender'] == 'Male', 'backsq'].max())\n",
        "print(df.loc[df['gender'] == 'Female', 'candj'].min())\n",
        "print(df.loc[df['gender'] == 'Female', 'candj'].max())\n",
        "print(df.loc[df['gender'] == 'Female', 'snatch'].min())\n",
        "print(df.loc[df['gender'] == 'Female', 'snatch'].max())\n",
        "print(df.loc[df['gender'] == 'Male', 'candj'].min())\n",
        "print(df.loc[df['gender'] == 'Male', 'candj'].max())\n",
        "print(df.loc[df['gender'] == 'Male', 'snatch'].min())\n",
        "print(df.loc[df['gender'] == 'Male', 'snatch'].max())"
      ],
      "execution_count": 9,
      "outputs": [
        {
          "output_type": "stream",
          "text": [
            "0.0\n",
            "8388607.0\n",
            "-500.0\n",
            "8388607.0\n",
            "0.0\n",
            "135000.0\n",
            "-7.0\n",
            "8388607.0\n",
            "0.0\n",
            "1555.0\n",
            "0.0\n",
            "145155.0\n",
            "-45.0\n",
            "8388607.0\n",
            "0.0\n",
            "8388607.0\n"
          ],
          "name": "stdout"
        }
      ]
    },
    {
      "cell_type": "markdown",
      "metadata": {
        "id": "iyXRmEaYucYu"
      },
      "source": [
        "# **Exploratory Data Analysis and Data Preprocessing**\n",
        "\n",
        "\n",
        "*   Remove rows that contain a null value in both the snatch and candj columns\n",
        "*   Remove rows containing null values in these columns: snatch, candj, backsq, deadlift\n",
        "*   Remove rows that contain nulls in all columns\n",
        "*   Remove rows that contain outlier values for clj, snatch, bsq, and deadlift.\n",
        "      I'm basing this threshold on what hasn't been humanly possible so far. Any value existing beyond the men's or women's world record in these lifts. Dropping outlier values on the lower end using the minimum weight for the women's bar of 33 pounds because even injured individuals who desire to participate will, at minimum, lift the bar"
      ]
    },
    {
      "cell_type": "code",
      "metadata": {
        "id": "oYxj2HKeuelx"
      },
      "source": [
        "def wrangle(df):\n",
        "  df = df.copy()\n",
        "\n",
        "  #Drop rows that contain null values in every column\n",
        "  df.dropna(axis=0,how='all', inplace=True)\n",
        "\n",
        "  #Drop rows that contain an outlier value for 'snatch' column where column is 'male'\n",
        "  male_sn = df[(df['gender'] == 'Male') & (df['snatch'] >= 500)].index\n",
        "  df.drop(male_sn , inplace=True)\n",
        "\n",
        "  #Drop rows that contain an outlier value for 'candj' column where column is 'male'\n",
        "  male_cj = df[(df['gender'] == 'Male') & (df['candj'] >= 600)].index\n",
        "  df.drop(male_cj , inplace=True)\n",
        "\n",
        "  #Drop rows that contain an outlier value for 'backsq' column where column is 'male'\n",
        "  male_bsq = df[(df['gender'] == 'Male') & (df['backsq'] >= 1160)].index\n",
        "  df.drop(male_bsq , inplace=True)\n",
        "\n",
        "  #Drop rows that contain an outlier value for 'deadlift' column where column is 'male' I'm eliminating values that are (beyond the world record deadlift\n",
        "  #amount(1110) \n",
        "  male_dl = df[(df['gender'] == 'Male') & (df['deadlift'] >= 1110)].index\n",
        "  df.drop(male_dl , inplace=True)\n",
        "\n",
        "  #Drop rows that contain an outlier value for 'snatch' column where column is 'female'\n",
        "  female_sn = df[(df['gender'] == 'Female') & (df['snatch'] >= 355)].index\n",
        "  df.drop(female_sn , inplace=True)\n",
        "\n",
        "  #Drop rows that contain an outlier value for 'candj' column where column is 'female'\n",
        "  female_cj = df[(df['gender'] == 'Female') & (df['candj'] >= 435)].index\n",
        "  df.drop(female_cj , inplace=True)\n",
        "\n",
        "  #Drop rows that contain an outlier value for 'backsq' column where column is 'female'\n",
        "  female_bsq = df[(df['gender'] == 'Female') & (df['backsq'] >= 603)].index\n",
        "  df.drop(female_bsq , inplace=True)\n",
        "\n",
        "  #Drop rows that contain an outlier value for 'deadlift' column where column is 'female' and again similar to the male deadlift, I am dropping\n",
        "  #outliers that are above the world record female deadlift\n",
        "  female_dl = df[(df['gender'] == 'Female') & (df['deadlift'] >= 683)].index\n",
        "  df.drop(female_dl , inplace=True)\n",
        "\n",
        "  df.dropna(subset = ['snatch', 'candj', 'deadlift', 'backsq'], how='any', inplace=True)\n",
        "\n",
        "  #Drop rows that contain an outlier value for 'age' column. I'm definining an outlier value as\n",
        "  # anything above 65. While the sport of Olympic weightlifting is very inclusive and offers competition age divisions for everyone\n",
        "  #it is less meaningful to evaluate competitive \"potential\" in the sport beyond a certain point where there is not much variation in performance.\n",
        "  #Beyond a certain age, simply showing up and competing is remarkable in its own right\n",
        "  age_limit_upper = df[(df['age'] >= 65)].index \n",
        "  df.drop(age_limit_upper, inplace=True)\n",
        " \n",
        "  #Drop rows where the athlete is not an adult\n",
        "  age_limit_lower = df[(df['age'] < 18)].index \n",
        "  df.drop(age_limit_lower, inplace=True)\n",
        "  #Replace the content of background with the number of words it contains\n",
        "  #df['background_count'] = df['background'].str.split(' ').str.len()\n",
        "\n",
        "  #drop rows in candj, snatch, backsq, and deadlift columns that are below the minimum weight of the women's bar\n",
        "  #a severely injured participant who still desire to participate would at least lift the bar without any weights loaded on it\n",
        "  \n",
        "  lift_subset = df[(df['backsq'] <= 33) | (df['deadlift'] <= 33) | (df['candj'] <= 33) | (df['snatch'] <= 33)].index\n",
        "  df.drop(lift_subset, inplace=True)  \n",
        "                                                                                                                       \n",
        "  return df\n",
        "\n"
      ],
      "execution_count": 10,
      "outputs": []
    },
    {
      "cell_type": "code",
      "metadata": {
        "id": "_anXib_juriq"
      },
      "source": [
        "df = wrangle(df)"
      ],
      "execution_count": 11,
      "outputs": []
    },
    {
      "cell_type": "code",
      "metadata": {
        "colab": {
          "base_uri": "https://localhost:8080/",
          "height": 219
        },
        "id": "mstQJ_pjelja",
        "outputId": "c6c8facb-97fb-407e-ac31-ed90de340e97"
      },
      "source": [
        "print(df.shape)\n",
        "df.head(1)"
      ],
      "execution_count": 12,
      "outputs": [
        {
          "output_type": "stream",
          "text": [
            "(81161, 28)\n"
          ],
          "name": "stdout"
        },
        {
          "output_type": "execute_result",
          "data": {
            "text/html": [
              "<div>\n",
              "<style scoped>\n",
              "    .dataframe tbody tr th:only-of-type {\n",
              "        vertical-align: middle;\n",
              "    }\n",
              "\n",
              "    .dataframe tbody tr th {\n",
              "        vertical-align: top;\n",
              "    }\n",
              "\n",
              "    .dataframe thead th {\n",
              "        text-align: right;\n",
              "    }\n",
              "</style>\n",
              "<table border=\"1\" class=\"dataframe\">\n",
              "  <thead>\n",
              "    <tr style=\"text-align: right;\">\n",
              "      <th></th>\n",
              "      <th>athlete_id</th>\n",
              "      <th>name</th>\n",
              "      <th>region</th>\n",
              "      <th>team</th>\n",
              "      <th>affiliate</th>\n",
              "      <th>gender</th>\n",
              "      <th>age</th>\n",
              "      <th>height</th>\n",
              "      <th>weight</th>\n",
              "      <th>fran</th>\n",
              "      <th>helen</th>\n",
              "      <th>grace</th>\n",
              "      <th>filthy50</th>\n",
              "      <th>fgonebad</th>\n",
              "      <th>run400</th>\n",
              "      <th>run5k</th>\n",
              "      <th>candj</th>\n",
              "      <th>snatch</th>\n",
              "      <th>deadlift</th>\n",
              "      <th>backsq</th>\n",
              "      <th>pullups</th>\n",
              "      <th>eat</th>\n",
              "      <th>train</th>\n",
              "      <th>background</th>\n",
              "      <th>experience</th>\n",
              "      <th>schedule</th>\n",
              "      <th>howlong</th>\n",
              "      <th>retrieved_datetime</th>\n",
              "    </tr>\n",
              "  </thead>\n",
              "  <tbody>\n",
              "    <tr>\n",
              "      <th>3</th>\n",
              "      <td>5164.0</td>\n",
              "      <td>Abo Brandon</td>\n",
              "      <td>Southern California</td>\n",
              "      <td>LAX CrossFit</td>\n",
              "      <td>LAX CrossFit</td>\n",
              "      <td>Male</td>\n",
              "      <td>40.0</td>\n",
              "      <td>67.0</td>\n",
              "      <td>NaN</td>\n",
              "      <td>211.0</td>\n",
              "      <td>645.0</td>\n",
              "      <td>300.0</td>\n",
              "      <td>NaN</td>\n",
              "      <td>196.0</td>\n",
              "      <td>NaN</td>\n",
              "      <td>NaN</td>\n",
              "      <td>245.0</td>\n",
              "      <td>200.0</td>\n",
              "      <td>375.0</td>\n",
              "      <td>325.0</td>\n",
              "      <td>25.0</td>\n",
              "      <td>I eat 1-3 full cheat meals per week|</td>\n",
              "      <td>I workout mostly at a CrossFit Affiliate|I hav...</td>\n",
              "      <td>I played youth or high school level sports|</td>\n",
              "      <td>I began CrossFit by trying it alone (without a...</td>\n",
              "      <td>I usually only do 1 workout a day|</td>\n",
              "      <td>4+ years|</td>\n",
              "      <td>NaN</td>\n",
              "    </tr>\n",
              "  </tbody>\n",
              "</table>\n",
              "</div>"
            ],
            "text/plain": [
              "   athlete_id         name  ...    howlong retrieved_datetime\n",
              "3      5164.0  Abo Brandon  ...  4+ years|                NaN\n",
              "\n",
              "[1 rows x 28 columns]"
            ]
          },
          "metadata": {
            "tags": []
          },
          "execution_count": 12
        }
      ]
    },
    {
      "cell_type": "markdown",
      "metadata": {
        "id": "mcLfsrzTdF2P"
      },
      "source": [
        "**Examples of Checks Used to Confirm Results of Wrangle Functions**"
      ]
    },
    {
      "cell_type": "code",
      "metadata": {
        "colab": {
          "base_uri": "https://localhost:8080/"
        },
        "id": "cACV7SMOuyhd",
        "outputId": "982fe955-0063-4929-9b4f-7245360c057e"
      },
      "source": [
        "#This is one example of the type of checks I ran after implementing the wrangle function above to make sure my code produced desired results, \n",
        "#and the changes took effect. I eliminated many of these checks in this final notebook in an effort to present a clean, final notebook for submission.\n",
        "print(df.loc[df['gender'] == 'Female', 'deadlift'].min())\n",
        "print(df.loc[df['gender'] == 'Female', 'deadlift'].max())\n",
        "print(df.loc[df['gender'] == 'Male', 'deadlift'].min())\n",
        "print(df.loc[df['gender'] == 'Male', 'deadlift'].max())\n",
        "print()\n",
        "df['age'].sort_values(ascending=False)"
      ],
      "execution_count": 13,
      "outputs": [
        {
          "output_type": "stream",
          "text": [
            "35.0\n",
            "675.0\n",
            "35.0\n",
            "1091.0\n",
            "\n"
          ],
          "name": "stdout"
        },
        {
          "output_type": "execute_result",
          "data": {
            "text/plain": [
              "387367    56.0\n",
              "374021    56.0\n",
              "364410    56.0\n",
              "364435    56.0\n",
              "404129    56.0\n",
              "          ... \n",
              "286717    18.0\n",
              "183165    18.0\n",
              "32183     18.0\n",
              "143269    18.0\n",
              "202094    18.0\n",
              "Name: age, Length: 81161, dtype: float64"
            ]
          },
          "metadata": {
            "tags": []
          },
          "execution_count": 13
        }
      ]
    },
    {
      "cell_type": "markdown",
      "metadata": {
        "id": "izqVhkOwu9KS"
      },
      "source": [
        "**Since I am interested in determining which Crossfit athletes have potential to be competitive in the sport of Weightlifting, \n",
        "my target ['talent'] is going to be a feature that I engineer based on domain-specific knowledge. The new feature calculates the ratio of clean-and-jerk to backsquat, which demonstrates a minimum threshold for the necessary technique needed for successful competitive performance in Weightlifting. A ratio above this threshold demonstrates that the lifter is skilled at maximizing their overall strength, and it is an indication of more optimized technique. My expectation is that someone who is identified as having competitive \"Potential\" could qualify for nationals within two years of consistent training in the sport of Weightlifting. After, I will drop the features used to engineer this target feature in order to prevent leakage.**"
      ]
    },
    {
      "cell_type": "code",
      "metadata": {
        "id": "nWMIn2L0u360"
      },
      "source": [
        "df[\"clj_to_bsq_ratio\"] = df['candj']/df['backsq']"
      ],
      "execution_count": 14,
      "outputs": []
    },
    {
      "cell_type": "code",
      "metadata": {
        "id": "OdlleS3CvIyF"
      },
      "source": [
        "def weightlifting_potential(row):\n",
        "    if row['clj_to_bsq_ratio'] >= .70:\n",
        "        return 'potential'\n",
        "    #elif row['clj_to_bsq_ratio'] < .77 and row['clj_to_bsq_ratio']  >= .72:\n",
        "     #   return 'some potential'\n",
        "    else:\n",
        "        return 'no potential'"
      ],
      "execution_count": 15,
      "outputs": []
    },
    {
      "cell_type": "code",
      "metadata": {
        "id": "eOW9yxCNvMUV"
      },
      "source": [
        "df['talent'] = df.apply(weightlifting_potential, axis=1)"
      ],
      "execution_count": 16,
      "outputs": []
    },
    {
      "cell_type": "code",
      "metadata": {
        "id": "kmvwDLVRvVAc"
      },
      "source": [
        "df['sn_clj'] = df['snatch']/df['candj']"
      ],
      "execution_count": 17,
      "outputs": []
    },
    {
      "cell_type": "code",
      "metadata": {
        "id": "T-Qc6HokvZ60"
      },
      "source": [
        "def sn_to_clj_ratio(row):\n",
        "  if row['sn_clj'] >=.78 + row['sn_clj'] <=.84:\n",
        "      return 'ideal'\n",
        "  else:\n",
        "        return 'not ideal'"
      ],
      "execution_count": 18,
      "outputs": []
    },
    {
      "cell_type": "code",
      "metadata": {
        "id": "A_xvAxGmveHW"
      },
      "source": [
        "df[\"snatch_clj\"] = df.apply(sn_to_clj_ratio, axis=1)"
      ],
      "execution_count": 19,
      "outputs": []
    },
    {
      "cell_type": "markdown",
      "metadata": {
        "id": "SWvraJ1Fvlxf"
      },
      "source": [
        "**In an effort to derive a greater degree of meaningfulness from some existing features in the dataset, I'm feature engineering a column that captures part of the psychological aspects of sports performance. One of the selected options for the 'training' column included whether CF athletes have had a life changing experience due to Crossfit. It seems counterintuitive, but my expectation is that athletes more inclined to view their experience with Crossfit as life changing would have a greater likelihood of falling into the \"No Potential\" target category. Part of my feature engineering strategy explained below particularly for dealing with missing values, is based on a possible scenario of having a real-world client who requests that I don't exclude a feature just because it has a lot of missing values (in a few of these cases, the rate was between 25-35%)**"
      ]
    },
    {
      "cell_type": "code",
      "metadata": {
        "id": "dXhLNpha0hAX"
      },
      "source": [
        "def wrangle_two(df):\n",
        "  df = df.copy()\n",
        "  #Create a new column equal to True or False depending on whether or not an athlete described their experience with Crossfit as life changing\n",
        "  df['experience_type'] = df['experience'].str.contains('life changing') \n",
        "  #Replance NaN values with False. This is an appropriate replacement in my attempts to feature engineer this binary column. If an athlete did not\n",
        "  #respond to the question, then the likelihood that they had a profound experience is greatly reduced.\n",
        "  df['experience_type'] = df['experience_type'].fillna(False)\n",
        "  #Create a new column that takes the 'background' column and converts it to a binary classification based on whether or\n",
        "  #not the athlete had a prior athletic background\n",
        "  df['background_type'] = df['background'].str.contains('no athletic background besides CrossFit')\n",
        "  #Replacing NaNs values with value that is most reasonable to avoid needing to impute later with most common value In this case,\n",
        "  #replacing NaN values with True based on likelihood that athletes with prior athletic experience would be more likely to respond to this question\n",
        "  #and less likely to acknowledge that they have no prior athletic background\n",
        "  df['background_type'] = df['background_type'].fillna(True)\n",
        "  #Replacing 'schedule' column with a binary classification honing in on whether an athlete works out multiple times a day. My reasoning is \n",
        "  #that athletes who are willing to work out multiple times a day have a greater competitive advantage\n",
        "  df['schedule_type'] = df['schedule'].str.contains('I do multiple workouts in a day 3+ times a week') \n",
        "  #Again, replacing NaN values upfront based on reasonable assessment to avoid less-than-ideal imputation results in my pipeline later\n",
        "  df['schedule_type'] = df['schedule_type'].fillna(False)\n",
        "  #Create a new column that is a binary classification of \n",
        "  df['train_description'] = df['train'].str.contains('I workout mostly at a CrossFit Affiliate') \n",
        "  df['train_description'] = df['train_description'].fillna(False)\n",
        "  #Drop columns that are no longer needed and particularly columns used to derive engineered features to eliminate later potential leakage\n",
        "  #or contrived high correlation\n",
        "  df = df.drop(columns=['candj', 'backsq', 'retrieved_datetime', 'clj_to_bsq_ratio', 'athlete_id', 'name', 'sn_clj','background', 'schedule', 'train'])\n",
        "  return df"
      ],
      "execution_count": 20,
      "outputs": []
    },
    {
      "cell_type": "code",
      "metadata": {
        "id": "kU3SvETV0jo2"
      },
      "source": [
        "df = wrangle_two(df)"
      ],
      "execution_count": 21,
      "outputs": []
    },
    {
      "cell_type": "code",
      "metadata": {
        "colab": {
          "base_uri": "https://localhost:8080/"
        },
        "id": "Tpp2wpkoOzFO",
        "outputId": "a05a0b81-bc57-47cf-fc20-58ddf81d1be2"
      },
      "source": [
        "df['talent'].value_counts(normalize=True)"
      ],
      "execution_count": 22,
      "outputs": [
        {
          "output_type": "execute_result",
          "data": {
            "text/plain": [
              "potential       0.516763\n",
              "no potential    0.483237\n",
              "Name: talent, dtype: float64"
            ]
          },
          "metadata": {
            "tags": []
          },
          "execution_count": 22
        }
      ]
    },
    {
      "cell_type": "code",
      "metadata": {
        "colab": {
          "base_uri": "https://localhost:8080/",
          "height": 295
        },
        "id": "1TqkvbqRPa7E",
        "outputId": "5cdd8677-0955-4836-b0b7-ba34be420447"
      },
      "source": [
        "import matplotlib.pyplot as plt\n",
        "import seaborn as sns\n",
        "plt.bar(['Potential', 'No Potential'], df['talent'].value_counts(normalize=True), color=sns.color_palette(\"magma\"))\n",
        "plt.title('Target Occurence')\n",
        "plt.ylabel('Occurence Percentage')\n",
        "plt.xlabel('Binary class rating-Potential');"
      ],
      "execution_count": 23,
      "outputs": [
        {
          "output_type": "display_data",
          "data": {
            "image/png": "[encoded data removed]",
            "text/plain": [
              "<Figure size 432x288 with 1 Axes>"
            ]
          },
          "metadata": {
            "tags": [],
            "needs_background": "light"
          }
        }
      ]
    },
    {
      "cell_type": "markdown",
      "metadata": {
        "id": "N8D1OGa4_Xkc"
      },
      "source": [
        "# **Split Data**"
      ]
    },
    {
      "cell_type": "code",
      "metadata": {
        "id": "GseBcnn8-Piu"
      },
      "source": [
        "target = 'talent'\n",
        "y = df[target]\n",
        "X = df.drop(target, axis=1)"
      ],
      "execution_count": 24,
      "outputs": []
    },
    {
      "cell_type": "code",
      "metadata": {
        "id": "agt_Gk9x_bfy"
      },
      "source": [
        "features= ['age', 'train_description', 'background_type', 'experience_type', 'region', 'snatch', 'deadlift', 'snatch_clj', 'schedule_type', 'eat']\n",
        "\n",
        "X_new = X[features]"
      ],
      "execution_count": 25,
      "outputs": []
    },
    {
      "cell_type": "code",
      "metadata": {
        "id": "d93K7pJv_g4n"
      },
      "source": [
        "# Import the train_test_split utility\n",
        "#from sklearn.model_selection import train_test_split\n",
        "# Create the \"remaining\" and test datasets\n",
        "from sklearn.model_selection import train_test_split\n",
        "\n",
        "X_initial_train, X_test, y_initial_train, y_test = train_test_split(\n",
        "    X_new, y, test_size=0.2, random_state=42)"
      ],
      "execution_count": 26,
      "outputs": []
    },
    {
      "cell_type": "code",
      "metadata": {
        "colab": {
          "base_uri": "https://localhost:8080/"
        },
        "id": "SgR_dY46_iIx",
        "outputId": "1c7bf8cd-188f-4fea-919a-3a828198c541"
      },
      "source": [
        "X_initial_train.shape, y_initial_train.shape, X_test.shape, y_test.shape"
      ],
      "execution_count": 27,
      "outputs": [
        {
          "output_type": "execute_result",
          "data": {
            "text/plain": [
              "((64928, 10), (64928,), (16233, 10), (16233,))"
            ]
          },
          "metadata": {
            "tags": []
          },
          "execution_count": 27
        }
      ]
    },
    {
      "cell_type": "code",
      "metadata": {
        "id": "0UrV04rf_ny_"
      },
      "source": [
        "# Create the train and validation datasets\n",
        "X_train, X_val, y_train, y_val = train_test_split(\n",
        "    X_initial_train, y_initial_train, test_size=0.2, random_state=42)"
      ],
      "execution_count": 28,
      "outputs": []
    },
    {
      "cell_type": "code",
      "metadata": {
        "colab": {
          "base_uri": "https://localhost:8080/"
        },
        "id": "vcXE9Jd4_q_I",
        "outputId": "bf101a76-270b-45db-ab03-46849190ed58"
      },
      "source": [
        "X_train.shape, y_train.shape, X_val.shape, y_val.shape, X_test.shape, y_test.shape"
      ],
      "execution_count": 29,
      "outputs": [
        {
          "output_type": "execute_result",
          "data": {
            "text/plain": [
              "((51942, 10), (51942,), (12986, 10), (12986,), (16233, 10), (16233,))"
            ]
          },
          "metadata": {
            "tags": []
          },
          "execution_count": 29
        }
      ]
    },
    {
      "cell_type": "markdown",
      "metadata": {
        "id": "Pkhno4MQAED9"
      },
      "source": [
        "# **Establish Baseline**"
      ]
    },
    {
      "cell_type": "code",
      "metadata": {
        "colab": {
          "base_uri": "https://localhost:8080/"
        },
        "id": "fZpWZF3RAExg",
        "outputId": "4bcf9ade-bc32-4ace-abdb-68f06096f11a"
      },
      "source": [
        "print('Baseline Accuracy:', y_train.value_counts(normalize=True).max())"
      ],
      "execution_count": 30,
      "outputs": [
        {
          "output_type": "stream",
          "text": [
            "Baseline Accuracy: 0.5175772977551885\n"
          ],
          "name": "stdout"
        }
      ]
    },
    {
      "cell_type": "markdown",
      "metadata": {
        "id": "TlNn-a4sA40F"
      },
      "source": [
        "# **Build Models**\n",
        "\n",
        "*   Logistic Regression\n",
        "*   Random Forest Classifier\n",
        "*   XGBoostClassifier\n",
        "\n",
        "\n",
        "\n",
        "\n"
      ]
    },
    {
      "cell_type": "markdown",
      "metadata": {
        "id": "JTMQqKBFJ1dU"
      },
      "source": [
        "# **Logistic Regression** \n",
        "  -To meet rubric Objective \"Fit and evaluate any linear model\""
      ]
    },
    {
      "cell_type": "code",
      "metadata": {
        "id": "6RUigEhdAHg0"
      },
      "source": [
        "from sklearn.pipeline import make_pipeline\n",
        "import category_encoders as ce \n",
        "from sklearn.linear_model import LogisticRegression\n",
        "from category_encoders import OrdinalEncoder\n",
        "from sklearn.impute import SimpleImputer\n",
        "\n",
        "\n",
        "model = make_pipeline(\n",
        "    OrdinalEncoder(),\n",
        "    SimpleImputer(),\n",
        "    LogisticRegression()\n",
        ")"
      ],
      "execution_count": 31,
      "outputs": []
    },
    {
      "cell_type": "code",
      "metadata": {
        "colab": {
          "base_uri": "https://localhost:8080/"
        },
        "id": "vdy8viJSAV1f",
        "outputId": "f5af7f58-8f22-4141-ca96-28a64692d3c9"
      },
      "source": [
        "model.fit(X_train, y_train)"
      ],
      "execution_count": 32,
      "outputs": [
        {
          "output_type": "execute_result",
          "data": {
            "text/plain": [
              "Pipeline(memory=None,\n",
              "         steps=[('ordinalencoder',\n",
              "                 OrdinalEncoder(cols=['region', 'snatch_clj', 'eat'],\n",
              "                                drop_invariant=False, handle_missing='value',\n",
              "                                handle_unknown='value',\n",
              "                                mapping=[{'col': 'region',\n",
              "                                          'data_type': dtype('O'),\n",
              "                                          'mapping': North West              1\n",
              "Mid Atlantic            2\n",
              "Northern California     3\n",
              "Canada West             4\n",
              "South East              5\n",
              "NaN                     6\n",
              "Australia               7\n",
              "Europe                  8\n",
              "North East              9\n",
              "Canada East            10\n",
              "North Central          11\n",
              "Latin Ameri...\n",
              "                 SimpleImputer(add_indicator=False, copy=True, fill_value=None,\n",
              "                               missing_values=nan, strategy='mean',\n",
              "                               verbose=0)),\n",
              "                ('logisticregression',\n",
              "                 LogisticRegression(C=1.0, class_weight=None, dual=False,\n",
              "                                    fit_intercept=True, intercept_scaling=1,\n",
              "                                    l1_ratio=None, max_iter=100,\n",
              "                                    multi_class='auto', n_jobs=None,\n",
              "                                    penalty='l2', random_state=None,\n",
              "                                    solver='lbfgs', tol=0.0001, verbose=0,\n",
              "                                    warm_start=False))],\n",
              "         verbose=False)"
            ]
          },
          "metadata": {
            "tags": []
          },
          "execution_count": 32
        }
      ]
    },
    {
      "cell_type": "markdown",
      "metadata": {
        "id": "VYc-HimTrSR_"
      },
      "source": [
        "# **Random Forest Classifier**\n",
        "  -To meet rubric Objective \"Fit and evaluate a tree-based model\""
      ]
    },
    {
      "cell_type": "code",
      "metadata": {
        "colab": {
          "base_uri": "https://localhost:8080/"
        },
        "id": "cMNXJjU-AhL5",
        "outputId": "0943ee1c-7849-46e0-8546-3bf6dbddf1ac"
      },
      "source": [
        "model_rf = make_pipeline(\n",
        "    OrdinalEncoder(), \n",
        "    SimpleImputer(), \n",
        "    RandomForestClassifier(random_state=42, n_jobs=-1, max_depth=6)\n",
        ")\n",
        "\n",
        "#fit on train, score on val \n",
        "model_rf.fit(X_train, y_train)\n"
      ],
      "execution_count": 33,
      "outputs": [
        {
          "output_type": "execute_result",
          "data": {
            "text/plain": [
              "Pipeline(memory=None,\n",
              "         steps=[('ordinalencoder',\n",
              "                 OrdinalEncoder(cols=['region', 'snatch_clj', 'eat'],\n",
              "                                drop_invariant=False, handle_missing='value',\n",
              "                                handle_unknown='value',\n",
              "                                mapping=[{'col': 'region',\n",
              "                                          'data_type': dtype('O'),\n",
              "                                          'mapping': North West              1\n",
              "Mid Atlantic            2\n",
              "Northern California     3\n",
              "Canada West             4\n",
              "South East              5\n",
              "NaN                     6\n",
              "Australia               7\n",
              "Europe                  8\n",
              "North East              9\n",
              "Canada East            10\n",
              "North Central          11\n",
              "Latin Ameri...\n",
              "                 RandomForestClassifier(bootstrap=True, ccp_alpha=0.0,\n",
              "                                        class_weight=None, criterion='gini',\n",
              "                                        max_depth=6, max_features='auto',\n",
              "                                        max_leaf_nodes=None, max_samples=None,\n",
              "                                        min_impurity_decrease=0.0,\n",
              "                                        min_impurity_split=None,\n",
              "                                        min_samples_leaf=1, min_samples_split=2,\n",
              "                                        min_weight_fraction_leaf=0.0,\n",
              "                                        n_estimators=100, n_jobs=-1,\n",
              "                                        oob_score=False, random_state=42,\n",
              "                                        verbose=0, warm_start=False))],\n",
              "         verbose=False)"
            ]
          },
          "metadata": {
            "tags": []
          },
          "execution_count": 33
        }
      ]
    },
    {
      "cell_type": "markdown",
      "metadata": {
        "id": "Fzxf818Xro7e"
      },
      "source": [
        "# **XGBoost Classifier**\n",
        "-Additionally, to meet rubric Objective \"Fit and evaluate a tree-based model\""
      ]
    },
    {
      "cell_type": "code",
      "metadata": {
        "colab": {
          "base_uri": "https://localhost:8080/"
        },
        "id": "-u6x2XwyCjD8",
        "outputId": "d2e358eb-c7e3-414d-f109-a0b0a9649ab4"
      },
      "source": [
        "model_xgb = make_pipeline(\n",
        "    OrdinalEncoder(),\n",
        "    SimpleImputer(),\n",
        "    XGBClassifier(random_state=41, n_jobs=-1)\n",
        ")\n",
        "\n",
        "model_xgb.fit(X_train, y_train)"
      ],
      "execution_count": 34,
      "outputs": [
        {
          "output_type": "execute_result",
          "data": {
            "text/plain": [
              "Pipeline(memory=None,\n",
              "         steps=[('ordinalencoder',\n",
              "                 OrdinalEncoder(cols=['region', 'snatch_clj', 'eat'],\n",
              "                                drop_invariant=False, handle_missing='value',\n",
              "                                handle_unknown='value',\n",
              "                                mapping=[{'col': 'region',\n",
              "                                          'data_type': dtype('O'),\n",
              "                                          'mapping': North West              1\n",
              "Mid Atlantic            2\n",
              "Northern California     3\n",
              "Canada West             4\n",
              "South East              5\n",
              "NaN                     6\n",
              "Australia               7\n",
              "Europe                  8\n",
              "North East              9\n",
              "Canada East            10\n",
              "North Central          11\n",
              "Latin Ameri...\n",
              "                 XGBClassifier(base_score=0.5, booster='gbtree',\n",
              "                               colsample_bylevel=1, colsample_bynode=1,\n",
              "                               colsample_bytree=1, gamma=0, learning_rate=0.1,\n",
              "                               max_delta_step=0, max_depth=3,\n",
              "                               min_child_weight=1, missing=None,\n",
              "                               n_estimators=100, n_jobs=-1, nthread=None,\n",
              "                               objective='binary:logistic', random_state=41,\n",
              "                               reg_alpha=0, reg_lambda=1, scale_pos_weight=1,\n",
              "                               seed=None, silent=None, subsample=1,\n",
              "                               verbosity=1))],\n",
              "         verbose=False)"
            ]
          },
          "metadata": {
            "tags": []
          },
          "execution_count": 34
        }
      ]
    },
    {
      "cell_type": "markdown",
      "metadata": {
        "id": "vOrAKxSGXGoy"
      },
      "source": [
        "**PDP Interact Plot for features 'deadlift' and 'snatch' from XGBoost Classifer**"
      ]
    },
    {
      "cell_type": "code",
      "metadata": {
        "colab": {
          "base_uri": "https://localhost:8080/",
          "height": 649
        },
        "id": "TXLn-MIDESL9",
        "outputId": "43fe436a-5ad9-4b17-9631-e85e66f26e5f"
      },
      "source": [
        "features= ['deadlift', 'snatch']\n",
        "\n",
        "interact= pdp_interact(\n",
        "    model=model_xgb,\n",
        "    dataset=X_val,\n",
        "    model_features=X_val.columns,\n",
        "    features=features\n",
        ")\n",
        "\n",
        "pdp_interact_plot(interact, plot_type='grid', feature_names=features);"
      ],
      "execution_count": 35,
      "outputs": [
        {
          "output_type": "stream",
          "text": [
            "findfont: Font family ['Arial'] not found. Falling back to DejaVu Sans.\n",
            "findfont: Font family ['Arial'] not found. Falling back to DejaVu Sans.\n",
            "findfont: Font family ['Arial'] not found. Falling back to DejaVu Sans.\n",
            "findfont: Font family ['Arial'] not found. Falling back to DejaVu Sans.\n"
          ],
          "name": "stderr"
        },
        {
          "output_type": "display_data",
          "data": {
            "image/png": "[encoded data removed]",
            "text/plain": [
              "<Figure size 540x684 with 3 Axes>"
            ]
          },
          "metadata": {
            "tags": [],
            "needs_background": "light"
          }
        }
      ]
    },
    {
      "cell_type": "markdown",
      "metadata": {
        "id": "tUI1x8rWUO1p"
      },
      "source": [
        "**The above PDP Interact Plot shows a somewhat even expansion of purple along the X axis and the y axis. The athletes with lowest potential have a very high deadlift but can only lift a very small number of pounds for the snatch lift. For an athlete to realize his or her full strength potential, the snatch should roughly be about 40% of the deadlift. It is not uncommon for CrossFit athletes to have ratios that are far different from ideal, which presents a particular challenge identifying individuals who have potential for competitive Weightlifting.**"
      ]
    },
    {
      "cell_type": "markdown",
      "metadata": {
        "id": "zL6gHTVEJOtD"
      },
      "source": [
        "# **Check Metrics**"
      ]
    },
    {
      "cell_type": "markdown",
      "metadata": {
        "id": "bXAcrEocJUSt"
      },
      "source": [
        "**Logistic Regression**"
      ]
    },
    {
      "cell_type": "code",
      "metadata": {
        "colab": {
          "base_uri": "https://localhost:8080/"
        },
        "id": "nnWfXw5sGp3-",
        "outputId": "a5b53ff0-cdb6-4d30-958e-31e7bf999725"
      },
      "source": [
        "#Logistic Regression-Training/Validation Accuracy\n",
        "train_acc = accuracy_score(y_train, model.predict(X_train))\n",
        "val_acc = accuracy_score(y_val, model.predict(X_val))\n",
        "print('Logistic Regression Training Accuracy Score:', train_acc)\n",
        "print('Logistic Regression Validation Accuracy Score:', val_acc)"
      ],
      "execution_count": 36,
      "outputs": [
        {
          "output_type": "stream",
          "text": [
            "Logistic Regression Training Accuracy Score: 0.639328481768126\n",
            "Logistic Regression Validation Accuracy Score: 0.6383797936239026\n"
          ],
          "name": "stdout"
        }
      ]
    },
    {
      "cell_type": "markdown",
      "metadata": {
        "id": "OIOvHAPKKHym"
      },
      "source": [
        "**Random Forest Classifier**"
      ]
    },
    {
      "cell_type": "code",
      "metadata": {
        "colab": {
          "base_uri": "https://localhost:8080/"
        },
        "id": "-QgPcvRtKHVk",
        "outputId": "2925d263-621a-419d-c647-31f4873d1c7f"
      },
      "source": [
        "train_acc =  accuracy_score(y_train, model_rf.predict(X_train))\n",
        "val_acc = accuracy_score(y_val, model_rf.predict(X_val))\n",
        "print('Random Forest Classifier Training Accuracy Score:', train_acc)\n",
        "print('Random Forest Classifier Validation Accuracy Score:', val_acc)"
      ],
      "execution_count": 37,
      "outputs": [
        {
          "output_type": "stream",
          "text": [
            "Random Forest Classifier Training Accuracy Score: 0.6220399676562319\n",
            "Random Forest Classifier Validation Accuracy Score: 0.6140458955798552\n"
          ],
          "name": "stdout"
        }
      ]
    },
    {
      "cell_type": "markdown",
      "metadata": {
        "id": "llqCWVAhKbGT"
      },
      "source": [
        "**XGBoost Classifier**"
      ]
    },
    {
      "cell_type": "code",
      "metadata": {
        "colab": {
          "base_uri": "https://localhost:8080/"
        },
        "id": "8qWAhczUKNlo",
        "outputId": "19c9d8e0-9257-4495-bc72-7d179afec08a"
      },
      "source": [
        "train_acc =  accuracy_score(y_train, model_xgb.predict(X_train))\n",
        "val_acc = accuracy_score(y_val, model_xgb.predict(X_val))\n",
        "print('XGBoost Classifier Training Accuracy Score:', train_acc)\n",
        "print('XGBoost Classifier Validation Accuracy Score:', val_acc)"
      ],
      "execution_count": 39,
      "outputs": [
        {
          "output_type": "stream",
          "text": [
            "XGBoost Classifier Training Accuracy Score: 0.6473181625659389\n",
            "XGBoost Classifier Validation Accuracy Score: 0.6396888957338672\n"
          ],
          "name": "stdout"
        }
      ]
    },
    {
      "cell_type": "markdown",
      "metadata": {
        "id": "UEPf56orXWWr"
      },
      "source": [
        "Based on these metrics displayed above, it looks as if the XGB Classifier has slightly better performance than the Logistic Regression model."
      ]
    },
    {
      "cell_type": "markdown",
      "metadata": {
        "id": "iTi563h5KrQH"
      },
      "source": [
        "# **Classification Reports**"
      ]
    },
    {
      "cell_type": "markdown",
      "metadata": {
        "id": "ApNJa2ZpdAT_"
      },
      "source": [
        "# **Logistic Regression**"
      ]
    },
    {
      "cell_type": "code",
      "metadata": {
        "colab": {
          "base_uri": "https://localhost:8080/"
        },
        "id": "-bcPLITCKtQq",
        "outputId": "0d62628e-e879-4dad-b50f-84dedb03b836"
      },
      "source": [
        "print('Logistic Regression')\n",
        "print(classification_report(y_val, model.predict(X_val)))"
      ],
      "execution_count": 40,
      "outputs": [
        {
          "output_type": "stream",
          "text": [
            "Logistic Regression\n",
            "              precision    recall  f1-score   support\n",
            "\n",
            "no potential       0.64      0.60      0.62      6317\n",
            "   potential       0.64      0.67      0.66      6669\n",
            "\n",
            "    accuracy                           0.64     12986\n",
            "   macro avg       0.64      0.64      0.64     12986\n",
            "weighted avg       0.64      0.64      0.64     12986\n",
            "\n"
          ],
          "name": "stdout"
        }
      ]
    },
    {
      "cell_type": "markdown",
      "metadata": {
        "id": "tsFZcdvwLo7B"
      },
      "source": [
        "# **Random Forest Classifier**"
      ]
    },
    {
      "cell_type": "code",
      "metadata": {
        "colab": {
          "base_uri": "https://localhost:8080/"
        },
        "id": "H4_kiHCVLoI5",
        "outputId": "f0d4869a-a77e-40f3-f5a8-dfc03acb0154"
      },
      "source": [
        "print('Random Forest Classifier')\n",
        "print(classification_report(y_val, model_rf.predict(X_val)))"
      ],
      "execution_count": 41,
      "outputs": [
        {
          "output_type": "stream",
          "text": [
            "Random Forest Classifier\n",
            "              precision    recall  f1-score   support\n",
            "\n",
            "no potential       0.61      0.56      0.58      6317\n",
            "   potential       0.61      0.67      0.64      6669\n",
            "\n",
            "    accuracy                           0.61     12986\n",
            "   macro avg       0.61      0.61      0.61     12986\n",
            "weighted avg       0.61      0.61      0.61     12986\n",
            "\n"
          ],
          "name": "stdout"
        }
      ]
    },
    {
      "cell_type": "markdown",
      "metadata": {
        "id": "GGyxP_AxL2NT"
      },
      "source": [
        "# **XGBoost Classifier**"
      ]
    },
    {
      "cell_type": "code",
      "metadata": {
        "colab": {
          "base_uri": "https://localhost:8080/"
        },
        "id": "GFmT1s4qNNJJ",
        "outputId": "8ff1ac97-baad-4d44-b019-7e256397440b"
      },
      "source": [
        "print('XGB Classifier')\n",
        "print(classification_report(y_val, model_xgb.predict(X_val)))"
      ],
      "execution_count": 42,
      "outputs": [
        {
          "output_type": "stream",
          "text": [
            "XGB Classifier\n",
            "              precision    recall  f1-score   support\n",
            "\n",
            "no potential       0.64      0.61      0.62      6317\n",
            "   potential       0.64      0.67      0.66      6669\n",
            "\n",
            "    accuracy                           0.64     12986\n",
            "   macro avg       0.64      0.64      0.64     12986\n",
            "weighted avg       0.64      0.64      0.64     12986\n",
            "\n"
          ],
          "name": "stdout"
        }
      ]
    },
    {
      "cell_type": "markdown",
      "metadata": {
        "id": "bvpQ8l57dWcP"
      },
      "source": [
        "# **Feature Importances**"
      ]
    },
    {
      "cell_type": "markdown",
      "metadata": {
        "id": "Ce6gyP1UdezL"
      },
      "source": [
        "**Random Forest Classifier**"
      ]
    },
    {
      "cell_type": "code",
      "metadata": {
        "colab": {
          "base_uri": "https://localhost:8080/",
          "height": 282
        },
        "id": "L0j9x5tYcWvG",
        "outputId": "1cef78ad-0d39-40a1-d307-5fef33c7d793"
      },
      "source": [
        "importance = model_rf.named_steps['randomforestclassifier'].feature_importances_\n",
        "feat_names = model_rf.named_steps['ordinalencoder'].get_feature_names()\n",
        "feat_imp = pd.Series(importance, index=feat_names)\n",
        "plt.show()\n",
        "feat_imp.plot(kind='barh')"
      ],
      "execution_count": 43,
      "outputs": [
        {
          "output_type": "execute_result",
          "data": {
            "text/plain": [
              "<matplotlib.axes._subplots.AxesSubplot at 0x7f917b00b490>"
            ]
          },
          "metadata": {
            "tags": []
          },
          "execution_count": 43
        },
        {
          "output_type": "display_data",
          "data": {
            "image/png": "[encoded data removed]",
            "text/plain": [
              "<Figure size 432x288 with 1 Axes>"
            ]
          },
          "metadata": {
            "tags": [],
            "needs_background": "light"
          }
        }
      ]
    },
    {
      "cell_type": "markdown",
      "metadata": {
        "id": "HPjgE7PBdh-V"
      },
      "source": [
        "**XGBoost**"
      ]
    },
    {
      "cell_type": "code",
      "metadata": {
        "colab": {
          "base_uri": "https://localhost:8080/",
          "height": 265
        },
        "id": "PfxAJILycjDt",
        "outputId": "06c95fdc-b239-4925-a062-e18ecdc9c604"
      },
      "source": [
        "importance = model_xgb.named_steps['xgbclassifier'].feature_importances_\n",
        "feat_names = model_xgb.named_steps['ordinalencoder'].get_feature_names()\n",
        "feat_imp = pd.Series(importance, index=feat_names)\n",
        "feat_imp.plot(kind='barh');"
      ],
      "execution_count": 44,
      "outputs": [
        {
          "output_type": "display_data",
          "data": {
            "image/png": "[encoded data removed]",
            "text/plain": [
              "<Figure size 432x288 with 1 Axes>"
            ]
          },
          "metadata": {
            "tags": [],
            "needs_background": "light"
          }
        }
      ]
    },
    {
      "cell_type": "markdown",
      "metadata": {
        "id": "-QYnRkzcd1hv"
      },
      "source": [
        "# **Confusion Matrix**"
      ]
    },
    {
      "cell_type": "markdown",
      "metadata": {
        "id": "R5ZLPb2jd94q"
      },
      "source": [
        "**Logistic Regression**\n",
        "  This model has 4500 true positives, 3790 true negatives, 2527 false positives, and 2169 false negatives. For casual readers, this confusion matrix is based on the validation data set. So, that is the reason that there are only a total of 12,986 observations even though the dataset after data preprocessing had over 81,000 observations; the validation dataset is a subset of that."
      ]
    },
    {
      "cell_type": "code",
      "metadata": {
        "colab": {
          "base_uri": "https://localhost:8080/",
          "height": 283
        },
        "id": "JQXDJHjHc6zr",
        "outputId": "0dbf6fae-10a5-456f-999c-9d516cb3db3f"
      },
      "source": [
        "plot_confusion_matrix(model, X_val, y_val, values_format='.0f');"
      ],
      "execution_count": 45,
      "outputs": [
        {
          "output_type": "display_data",
          "data": {
            "image/png": "[encoded data removed]",
            "text/plain": [
              "<Figure size 432x288 with 2 Axes>"
            ]
          },
          "metadata": {
            "tags": [],
            "needs_background": "light"
          }
        }
      ]
    },
    {
      "cell_type": "markdown",
      "metadata": {
        "id": "dZjpIzsPeEPx"
      },
      "source": [
        "**Random Forest Classifier**\n",
        "This model has 4455 true positives, 3519 true negatives, 2798 false positives, and 2214 false negatives."
      ]
    },
    {
      "cell_type": "code",
      "metadata": {
        "colab": {
          "base_uri": "https://localhost:8080/",
          "height": 279
        },
        "id": "mzW5pA4ieGes",
        "outputId": "69b7c35c-02a3-48a3-f1be-bf5044e94915"
      },
      "source": [
        "plot_confusion_matrix(model_rf, X_val, y_val, values_format='.0f');"
      ],
      "execution_count": 46,
      "outputs": [
        {
          "output_type": "display_data",
          "data": {
            "image/png": "[encoded data removed]",
            "text/plain": [
              "<Figure size 432x288 with 2 Axes>"
            ]
          },
          "metadata": {
            "tags": [],
            "needs_background": "light"
          }
        }
      ]
    },
    {
      "cell_type": "markdown",
      "metadata": {
        "id": "W1OucKgvZD7r"
      },
      "source": [
        "**XGBoost Classifier**\n",
        "This model has 4479 true positives, 3828 true negatives, 2489 false positives, and 2190 false negatives. This model performed best, having the highest number of true positives and true negatives combined(the Logistic Regression model had the highest number of true positives alone), and the lowest number of false posiitves and false negatives combined(the Logistic Regression model had the lowest number of false negatives alone)."
      ]
    },
    {
      "cell_type": "code",
      "metadata": {
        "colab": {
          "base_uri": "https://localhost:8080/",
          "height": 279
        },
        "id": "TZA7hX3nesf2",
        "outputId": "c2b7a997-6bdc-483a-bd6f-759c9049ee85"
      },
      "source": [
        "plot_confusion_matrix(model_xgb, X_val, y_val, values_format='.0f');\r\n"
      ],
      "execution_count": 47,
      "outputs": [
        {
          "output_type": "display_data",
          "data": {
            "image/png": "[encoded data removed]",
            "text/plain": [
              "<Figure size 432x288 with 2 Axes>"
            ]
          },
          "metadata": {
            "tags": [],
            "needs_background": "light"
          }
        }
      ]
    },
    {
      "cell_type": "markdown",
      "metadata": {
        "id": "bfqPVg9MRZy4"
      },
      "source": [
        "# **Hyperparameter Tuning**"
      ]
    },
    {
      "cell_type": "markdown",
      "metadata": {
        "id": "sYCZcibhXv73"
      },
      "source": [
        "**Tuning Logistic Regression by Hand**"
      ]
    },
    {
      "cell_type": "code",
      "metadata": {
        "id": "v7kKC_kpSyMM"
      },
      "source": [
        "model_lr_rscv = make_pipeline(\n",
        "    OrdinalEncoder(),\n",
        "    SimpleImputer(),\n",
        "    LogisticRegression(random_state=42,  \n",
        "                       n_jobs=-1,\n",
        "                       solver='liblinear',\n",
        "                       penalty='l2')\n",
        ")"
      ],
      "execution_count": 49,
      "outputs": []
    },
    {
      "cell_type": "code",
      "metadata": {
        "colab": {
          "base_uri": "https://localhost:8080/"
        },
        "id": "t9ONW-77TR3R",
        "outputId": "75de4fc5-72b8-4051-8f81-754515a17cf8"
      },
      "source": [
        "model_lr_rscv.fit(X_train, y_train)"
      ],
      "execution_count": 50,
      "outputs": [
        {
          "output_type": "execute_result",
          "data": {
            "text/plain": [
              "Pipeline(memory=None,\n",
              "         steps=[('ordinalencoder',\n",
              "                 OrdinalEncoder(cols=['region', 'snatch_clj', 'eat'],\n",
              "                                drop_invariant=False, handle_missing='value',\n",
              "                                handle_unknown='value',\n",
              "                                mapping=[{'col': 'region',\n",
              "                                          'data_type': dtype('O'),\n",
              "                                          'mapping': North West              1\n",
              "Mid Atlantic            2\n",
              "Northern California     3\n",
              "Canada West             4\n",
              "South East              5\n",
              "NaN                     6\n",
              "Australia               7\n",
              "Europe                  8\n",
              "North East              9\n",
              "Canada East            10\n",
              "North Central          11\n",
              "Latin Ameri...\n",
              "                 SimpleImputer(add_indicator=False, copy=True, fill_value=None,\n",
              "                               missing_values=nan, strategy='mean',\n",
              "                               verbose=0)),\n",
              "                ('logisticregression',\n",
              "                 LogisticRegression(C=1.0, class_weight=None, dual=False,\n",
              "                                    fit_intercept=True, intercept_scaling=1,\n",
              "                                    l1_ratio=None, max_iter=100,\n",
              "                                    multi_class='auto', n_jobs=-1, penalty='l2',\n",
              "                                    random_state=42, solver='liblinear',\n",
              "                                    tol=0.0001, verbose=0, warm_start=False))],\n",
              "         verbose=False)"
            ]
          },
          "metadata": {
            "tags": []
          },
          "execution_count": 50
        }
      ]
    },
    {
      "cell_type": "markdown",
      "metadata": {
        "id": "lCKeBrmcYBP0"
      },
      "source": [
        "**Tuning Random Forest Classifier using Randomized Search CV**"
      ]
    },
    {
      "cell_type": "code",
      "metadata": {
        "id": "FQmnZ_iTRZb6"
      },
      "source": [
        "pipeline = make_pipeline(\n",
        "    OrdinalEncoder(),\n",
        "    SimpleImputer(),\n",
        "    RandomForestClassifier(random_state=42,\n",
        "                           n_jobs=-1)\n",
        ")\n",
        "\n",
        "params = {\n",
        "    'randomforestclassifier__max_depth': range(5,36,10),\n",
        "    'randomforestclassifier__n_estimators':[25,50,75],\n",
        "    'randomforestclassifier__max_samples': np.arange(0.2,0.8,0.2)\n",
        "}\n",
        "\n",
        "model_rfc_rscv = RandomizedSearchCV(pipeline,\n",
        "                     param_distributions=params,\n",
        "                     n_iter=5,\n",
        "                     n_jobs=-1,\n",
        "                     cv=5,\n",
        "                     random_state=42,\n",
        "                     verbose=1)"
      ],
      "execution_count": 51,
      "outputs": []
    },
    {
      "cell_type": "code",
      "metadata": {
        "colab": {
          "base_uri": "https://localhost:8080/"
        },
        "id": "rAoXz5PCRuKP",
        "outputId": "3e2df982-b949-4e19-e38e-9d026aae8390"
      },
      "source": [
        "model_rfc_rscv.fit(X_train, y_train)"
      ],
      "execution_count": 52,
      "outputs": [
        {
          "output_type": "stream",
          "text": [
            "Fitting 5 folds for each of 5 candidates, totalling 25 fits\n"
          ],
          "name": "stdout"
        },
        {
          "output_type": "stream",
          "text": [
            "[Parallel(n_jobs=-1)]: Using backend LokyBackend with 4 concurrent workers.\n",
            "[Parallel(n_jobs=-1)]: Done  25 out of  25 | elapsed:   15.6s finished\n"
          ],
          "name": "stderr"
        },
        {
          "output_type": "execute_result",
          "data": {
            "text/plain": [
              "RandomizedSearchCV(cv=5, error_score=nan,\n",
              "                   estimator=Pipeline(memory=None,\n",
              "                                      steps=[('ordinalencoder',\n",
              "                                              OrdinalEncoder(cols=None,\n",
              "                                                             drop_invariant=False,\n",
              "                                                             handle_missing='value',\n",
              "                                                             handle_unknown='value',\n",
              "                                                             mapping=None,\n",
              "                                                             return_df=True,\n",
              "                                                             verbose=0)),\n",
              "                                             ('simpleimputer',\n",
              "                                              SimpleImputer(add_indicator=False,\n",
              "                                                            copy=True,\n",
              "                                                            fill_value=None,\n",
              "                                                            missing_values=nan,\n",
              "                                                            strategy='mean',\n",
              "                                                            verbose=0)...\n",
              "                                                                     warm_start=False))],\n",
              "                                      verbose=False),\n",
              "                   iid='deprecated', n_iter=5, n_jobs=-1,\n",
              "                   param_distributions={'randomforestclassifier__max_depth': range(5, 36, 10),\n",
              "                                        'randomforestclassifier__max_samples': array([0.2, 0.4, 0.6, 0.8]),\n",
              "                                        'randomforestclassifier__n_estimators': [25,\n",
              "                                                                                 50,\n",
              "                                                                                 75]},\n",
              "                   pre_dispatch='2*n_jobs', random_state=42, refit=True,\n",
              "                   return_train_score=False, scoring=None, verbose=1)"
            ]
          },
          "metadata": {
            "tags": []
          },
          "execution_count": 52
        }
      ]
    },
    {
      "cell_type": "markdown",
      "metadata": {
        "id": "6Unhu7hQYQkC"
      },
      "source": [
        "**Tuning XGBClassifier Using Randomized Search CV**"
      ]
    },
    {
      "cell_type": "code",
      "metadata": {
        "id": "UNCNj6N1R1Wm"
      },
      "source": [
        "pipeline = make_pipeline(\n",
        "    OrdinalEncoder(),\n",
        "    SimpleImputer(),\n",
        "    XGBClassifier(random_state=42,\n",
        "                           n_jobs=-1)\n",
        ")\n",
        "\n",
        "params = {\n",
        "    'xgbclassifier__max_depth': range(3,19,6),\n",
        "    'xgbclassifier__learning_rate':[0.05],\n",
        "    'xgbclassifier__n_estimators':[500],\n",
        "    'xgbclassifier__max_samples': np.arange(0.2,0.8,0.2),\n",
        "    'xgbclassifier__early_stopping_rounds': [10]\n",
        "}\n",
        "\n",
        "model_xgb_rscv = RandomizedSearchCV(pipeline,\n",
        "                     param_distributions=params,\n",
        "                     n_iter=5,\n",
        "                     n_jobs=-1,\n",
        "                     cv=5,\n",
        "                     random_state=42,\n",
        "                     verbose=1)\n",
        "      "
      ],
      "execution_count": 53,
      "outputs": []
    },
    {
      "cell_type": "code",
      "metadata": {
        "colab": {
          "base_uri": "https://localhost:8080/"
        },
        "id": "PzRt68NQR2Pg",
        "outputId": "2194ecf9-9c72-42de-a54f-a9bf59cd7088"
      },
      "source": [
        "model_xgb_rscv.fit(X_train, y_train)"
      ],
      "execution_count": 54,
      "outputs": [
        {
          "output_type": "stream",
          "text": [
            "Fitting 5 folds for each of 5 candidates, totalling 25 fits\n"
          ],
          "name": "stdout"
        },
        {
          "output_type": "stream",
          "text": [
            "[Parallel(n_jobs=-1)]: Using backend LokyBackend with 4 concurrent workers.\n",
            "[Parallel(n_jobs=-1)]: Done  25 out of  25 | elapsed:  5.7min finished\n"
          ],
          "name": "stderr"
        },
        {
          "output_type": "execute_result",
          "data": {
            "text/plain": [
              "RandomizedSearchCV(cv=5, error_score=nan,\n",
              "                   estimator=Pipeline(memory=None,\n",
              "                                      steps=[('ordinalencoder',\n",
              "                                              OrdinalEncoder(cols=None,\n",
              "                                                             drop_invariant=False,\n",
              "                                                             handle_missing='value',\n",
              "                                                             handle_unknown='value',\n",
              "                                                             mapping=None,\n",
              "                                                             return_df=True,\n",
              "                                                             verbose=0)),\n",
              "                                             ('simpleimputer',\n",
              "                                              SimpleImputer(add_indicator=False,\n",
              "                                                            copy=True,\n",
              "                                                            fill_value=None,\n",
              "                                                            missing_values=nan,\n",
              "                                                            strategy='mean',\n",
              "                                                            verbose=0)...\n",
              "                   iid='deprecated', n_iter=5, n_jobs=-1,\n",
              "                   param_distributions={'xgbclassifier__early_stopping_rounds': [10],\n",
              "                                        'xgbclassifier__learning_rate': [0.05],\n",
              "                                        'xgbclassifier__max_depth': range(3, 19, 6),\n",
              "                                        'xgbclassifier__max_samples': array([0.2, 0.4, 0.6, 0.8]),\n",
              "                                        'xgbclassifier__n_estimators': [500]},\n",
              "                   pre_dispatch='2*n_jobs', random_state=42, refit=True,\n",
              "                   return_train_score=False, scoring=None, verbose=1)"
            ]
          },
          "metadata": {
            "tags": []
          },
          "execution_count": 54
        }
      ]
    },
    {
      "cell_type": "markdown",
      "metadata": {
        "id": "X9EOB4W1TPuY"
      },
      "source": [
        "# **Check Metrics for Hyperparameter-tuned Models**"
      ]
    },
    {
      "cell_type": "markdown",
      "metadata": {
        "id": "QeBRgJ_BYyo-"
      },
      "source": [
        "**Logistic Regression model**"
      ]
    },
    {
      "cell_type": "code",
      "metadata": {
        "colab": {
          "base_uri": "https://localhost:8080/"
        },
        "id": "oOr4_cBvXzdz",
        "outputId": "0c210494-0f7d-40f6-e97d-fdf3c9839865"
      },
      "source": [
        "train_acc =  accuracy_score(y_train, model_lr_rscv.predict(X_train))\n",
        "val_acc = accuracy_score(y_val, model_lr_rscv.predict(X_val))\n",
        "print('Training Accuracy Score:', train_acc)\n",
        "print('Validation Accuracy Score:', val_acc)\n",
        "\n"
      ],
      "execution_count": 55,
      "outputs": [
        {
          "output_type": "stream",
          "text": [
            "Training Accuracy Score: 0.6396172654114204\n",
            "Validation Accuracy Score: 0.6384567996303712\n"
          ],
          "name": "stdout"
        }
      ]
    },
    {
      "cell_type": "markdown",
      "metadata": {
        "id": "wvoSdHYsY29s"
      },
      "source": [
        "**Random Forest Classifier**"
      ]
    },
    {
      "cell_type": "code",
      "metadata": {
        "colab": {
          "base_uri": "https://localhost:8080/"
        },
        "id": "9KCB2rhiSWuj",
        "outputId": "ad364362-f15f-4433-d667-611f1fcdff53"
      },
      "source": [
        "train_acc =  accuracy_score(y_train, model_rfc_rscv.predict(X_train))\n",
        "val_acc = accuracy_score(y_val, model_rfc_rscv.predict(X_val))\n",
        "print('Training Accuracy Score:', train_acc)\n",
        "print('Validation Accuracy Score:', val_acc)"
      ],
      "execution_count": 56,
      "outputs": [
        {
          "output_type": "stream",
          "text": [
            "Training Accuracy Score: 0.8162373416503023\n",
            "Validation Accuracy Score: 0.6208224241490836\n"
          ],
          "name": "stdout"
        }
      ]
    },
    {
      "cell_type": "markdown",
      "metadata": {
        "id": "Ef7uR-FuY5Nz"
      },
      "source": [
        "**XGBoost Classifier**"
      ]
    },
    {
      "cell_type": "code",
      "metadata": {
        "colab": {
          "base_uri": "https://localhost:8080/"
        },
        "id": "Rh4y-249SXKa",
        "outputId": "54f95e98-6bc8-40d9-9012-3bdfb46957c2"
      },
      "source": [
        "train_acc =  accuracy_score(y_train, model_xgb_rscv.predict(X_train))\n",
        "val_acc = accuracy_score(y_val, model_xgb_rscv.predict(X_val))\n",
        "print('Training Accuracy Score:', train_acc)\n",
        "print('Validation Accuracy Score:', val_acc)"
      ],
      "execution_count": 57,
      "outputs": [
        {
          "output_type": "stream",
          "text": [
            "Training Accuracy Score: 0.6518809441299911\n",
            "Validation Accuracy Score: 0.6412290158632373\n"
          ],
          "name": "stdout"
        }
      ]
    },
    {
      "cell_type": "markdown",
      "metadata": {
        "id": "ef2VoDvrabDb"
      },
      "source": [
        "Again, it appears that on the validation data, the hypertuned models rank the same as before tuning in order of performance: XGBoost, followed by Logistic Regression, with Random Classifier coming in last. However, there are not very big differences in performance, with only a performance boost of 2% points between best and worst models."
      ]
    },
    {
      "cell_type": "markdown",
      "metadata": {
        "id": "MJ32i_jtgDtr"
      },
      "source": [
        "# **Communicate Results**"
      ]
    },
    {
      "cell_type": "markdown",
      "metadata": {
        "id": "j6pr7t8BgaQz"
      },
      "source": [
        "**Partial Dependence Plot for feature 'Age' from Hyperparameter-tuned Random Classifier Model**"
      ]
    },
    {
      "cell_type": "code",
      "metadata": {
        "colab": {
          "base_uri": "https://localhost:8080/",
          "height": 578
        },
        "id": "nocZ8ruTgDUS",
        "outputId": "4b340554-c730-4056-dd30-8b9d73d0fb72"
      },
      "source": [
        "from pdpbox.pdp import pdp_isolate, pdp_plot\n",
        "\n",
        "feature= 'age'\n",
        "\n",
        "isolate= pdp_isolate(\n",
        "    model=model_rfc_rscv,\n",
        "    dataset=X_test,\n",
        "    model_features=X_test.columns,\n",
        "    feature=feature\n",
        ")\n",
        "\n",
        "pdp_plot(isolate, feature_name=feature);"
      ],
      "execution_count": 59,
      "outputs": [
        {
          "output_type": "display_data",
          "data": {
            "image/png": "[encoded data removed]",
            "text/plain": [
              "<Figure size 1080x684 with 2 Axes>"
            ]
          },
          "metadata": {
            "tags": [],
            "needs_background": "light"
          }
        }
      ]
    },
    {
      "cell_type": "markdown",
      "metadata": {
        "id": "i0PuDXhMbrBF"
      },
      "source": [
        "**Partial Dependence Plot for feature 'Deadlift' from Hyperparameter-tuned Random Classifier Model**"
      ]
    },
    {
      "cell_type": "code",
      "metadata": {
        "colab": {
          "base_uri": "https://localhost:8080/",
          "height": 578
        },
        "id": "LiP4Cud_iqGp",
        "outputId": "5ebba8ab-e2f9-4ae6-d756-4e66b615e93d"
      },
      "source": [
        "feature= 'deadlift'\n",
        "\n",
        "isolate= pdp_isolate(\n",
        "    model=model_rfc_rscv,\n",
        "    dataset=X_test,\n",
        "    model_features=X_test.columns,\n",
        "    feature=feature\n",
        ")\n",
        "\n",
        "pdp_plot(isolate, feature_name=feature);"
      ],
      "execution_count": 60,
      "outputs": [
        {
          "output_type": "display_data",
          "data": {
            "image/png": "[encoded data removed]",
            "text/plain": [
              "<Figure size 1080x684 with 2 Axes>"
            ]
          },
          "metadata": {
            "tags": [],
            "needs_background": "light"
          }
        }
      ]
    },
    {
      "cell_type": "markdown",
      "metadata": {
        "id": "JklOMut1b0FV"
      },
      "source": [
        "**PDP Interact Plot for features 'deadlift' and 'age' from XGBoost Classifer**"
      ]
    },
    {
      "cell_type": "code",
      "metadata": {
        "colab": {
          "base_uri": "https://localhost:8080/",
          "height": 581
        },
        "id": "y5YtRw0WjTpE",
        "outputId": "58c754c5-b67e-4822-fd86-bca6166afe55"
      },
      "source": [
        "features= ['age', 'snatch']\n",
        "\n",
        "interact= pdp_interact(\n",
        "    model=model_xgb,\n",
        "    dataset=X_test,\n",
        "    model_features=X_test.columns,\n",
        "    features=features\n",
        ")\n",
        "\n",
        "pdp_interact_plot(interact, plot_type='grid', feature_names=features);"
      ],
      "execution_count": 61,
      "outputs": [
        {
          "output_type": "display_data",
          "data": {
            "image/png": "[encoded data removed]",
            "text/plain": [
              "<Figure size 540x684 with 3 Axes>"
            ]
          },
          "metadata": {
            "tags": [],
            "needs_background": "light"
          }
        }
      ]
    },
    {
      "cell_type": "markdown",
      "metadata": {
        "id": "2BejIYs_-pRb"
      },
      "source": [
        "The results of this PDP Interact Plot are not surprising. The oldest individual(s) has the lightest weight snatch and has the least potential; the youngest individual has the heaviest weight snatch and has the highest potential. "
      ]
    },
    {
      "cell_type": "markdown",
      "metadata": {
        "id": "xB4bfdGxcan6"
      },
      "source": [
        "**ROC Curve for Tuned Logistic Regression and Random Forest models**"
      ]
    },
    {
      "cell_type": "code",
      "metadata": {
        "colab": {
          "base_uri": "https://localhost:8080/",
          "height": 279
        },
        "id": "iP86wRS-kt_a",
        "outputId": "839217d2-ee3c-497f-b620-9e2ffc6454c1"
      },
      "source": [
        "from sklearn.metrics import roc_curve, plot_roc_curve\r\n",
        "lr = plot_roc_curve(model_lr_rscv,\r\n",
        "                    X_val,\r\n",
        "                    y_val,\r\n",
        "                    label='Logistic Regression')\r\n",
        "rf = plot_roc_curve(model_rfc_rscv,\r\n",
        "                    X_val,\r\n",
        "                    y_val,\r\n",
        "                    ax=lr.ax_,\r\n",
        "                    label='Random Forest')\r\n",
        "\r\n",
        "plt.plot([(0,0), (1,1)], color='grey', linestyle='--')\r\n",
        "plt.legend();"
      ],
      "execution_count": 62,
      "outputs": [
        {
          "output_type": "display_data",
          "data": {
            "image/png": "[encoded data removed]",
            "text/plain": [
              "<Figure size 432x288 with 1 Axes>"
            ]
          },
          "metadata": {
            "tags": [],
            "needs_background": "light"
          }
        }
      ]
    },
    {
      "cell_type": "markdown",
      "metadata": {
        "id": "jqQ_zN1AdNYz"
      },
      "source": [
        "**ROC Curve for XGBoost Classifier model before and after tuning**"
      ]
    },
    {
      "cell_type": "code",
      "metadata": {
        "colab": {
          "base_uri": "https://localhost:8080/",
          "height": 279
        },
        "id": "XuDlxAASlzg7",
        "outputId": "25d2e2e6-58da-4f4c-8f30-3f8fcbed1150"
      },
      "source": [
        "xgb = plot_roc_curve(model_xgb,\r\n",
        "                    X_val,\r\n",
        "                    y_val,\r\n",
        "                    label='XGB Classifier')\r\n",
        "\r\n",
        "xgb2 = plot_roc_curve(model_xgb_rscv,\r\n",
        "                    X_val,\r\n",
        "                    y_val,\r\n",
        "                    ax=xgb.ax_,\r\n",
        "                    label='Tuned XGB Classifier')\r\n",
        "\r\n",
        "\r\n",
        "plt.plot([(0,0), (1,1)], color='grey', linestyle='--')\r\n",
        "plt.legend();"
      ],
      "execution_count": 63,
      "outputs": [
        {
          "output_type": "display_data",
          "data": {
            "image/png": "[encoded data removed]",
            "text/plain": [
              "<Figure size 432x288 with 1 Axes>"
            ]
          },
          "metadata": {
            "tags": [],
            "needs_background": "light"
          }
        }
      ]
    },
    {
      "cell_type": "markdown",
      "metadata": {
        "id": "B5b-UOq5eREG"
      },
      "source": [
        "**As you can see from the above ROC curve, the orange line completely obscures the blue line, as the XGBoost Classifier performed very similarly to the  hyperparameter-tuned XGBoost Classifier on the validation data.**"
      ]
    },
    {
      "cell_type": "markdown",
      "metadata": {
        "id": "r8YGOxdSfcbb"
      },
      "source": [
        "# **Predictions**"
      ]
    },
    {
      "cell_type": "markdown",
      "metadata": {
        "id": "LGjFFx5Nfdhb"
      },
      "source": [
        "# **Initial Models**"
      ]
    },
    {
      "cell_type": "markdown",
      "metadata": {
        "id": "Dy1yOuxrfiGL"
      },
      "source": [
        "**Logistic Regression**"
      ]
    },
    {
      "cell_type": "code",
      "metadata": {
        "colab": {
          "base_uri": "https://localhost:8080/"
        },
        "id": "7IG5VqZyfo1R",
        "outputId": "e116f839-3041-4cd2-8f64-d4570c472dd7"
      },
      "source": [
        "test_acc =  accuracy_score(y_test, model.predict(X_test))\n",
        "\n",
        "print('Logistic Regression Testing Accuracy Score:', test_acc)"
      ],
      "execution_count": 67,
      "outputs": [
        {
          "output_type": "stream",
          "text": [
            "Logistic Regression Testing Accuracy Score: 0.6374668884371343\n"
          ],
          "name": "stdout"
        }
      ]
    },
    {
      "cell_type": "markdown",
      "metadata": {
        "id": "-OMGbwB2ftR0"
      },
      "source": [
        "**Random Forest Classifier**"
      ]
    },
    {
      "cell_type": "code",
      "metadata": {
        "colab": {
          "base_uri": "https://localhost:8080/"
        },
        "id": "fQrHvKvzfxid",
        "outputId": "e06a13ed-f141-414c-ff10-d127192bd766"
      },
      "source": [
        "test_acc =  accuracy_score(y_test, model_rf.predict(X_test))\n",
        "\n",
        "print('Random Forest Classifier Testing Accuracy Score:', test_acc)"
      ],
      "execution_count": 65,
      "outputs": [
        {
          "output_type": "stream",
          "text": [
            "Random Forest Classifier Testing Accuracy Score: 0.6163986940183577\n"
          ],
          "name": "stdout"
        }
      ]
    },
    {
      "cell_type": "markdown",
      "metadata": {
        "id": "3_olRzaZf1me"
      },
      "source": [
        "**XGBoost Classifier**"
      ]
    },
    {
      "cell_type": "code",
      "metadata": {
        "colab": {
          "base_uri": "https://localhost:8080/"
        },
        "id": "1_ZcgKvgf6PG",
        "outputId": "9b6469a8-d406-451e-bc4b-3d08d0e4090e"
      },
      "source": [
        "test_acc =  accuracy_score(y_test, model_xgb.predict(X_test))\n",
        "\n",
        "print('XGBoost Classifier Testing Accuracy Score:', test_acc)"
      ],
      "execution_count": 66,
      "outputs": [
        {
          "output_type": "stream",
          "text": [
            "XGBoost Classifier Testing Accuracy Score: 0.6422103123267419\n"
          ],
          "name": "stdout"
        }
      ]
    },
    {
      "cell_type": "markdown",
      "metadata": {
        "id": "CVikBa_jf-MA"
      },
      "source": [
        "# **Tuned Models**"
      ]
    },
    {
      "cell_type": "markdown",
      "metadata": {
        "id": "pEFZRe5GgB8I"
      },
      "source": [
        "**Logistic Regression Model Tuned by Hand**"
      ]
    },
    {
      "cell_type": "code",
      "metadata": {
        "colab": {
          "base_uri": "https://localhost:8080/"
        },
        "id": "nWVn01zYgFt2",
        "outputId": "2e10da43-25ee-4bc3-e08f-e88c1c1ff72d"
      },
      "source": [
        "test_acc =  accuracy_score(y_test, model_lr_rscv.predict(X_test))\n",
        "\n",
        "print('Random Forest Classifier (Hyperparameter Tuned):', test_acc)"
      ],
      "execution_count": 69,
      "outputs": [
        {
          "output_type": "stream",
          "text": [
            "Random Forest Classifier (Hyperparameter Tuned): 0.6377749029754204\n"
          ],
          "name": "stdout"
        }
      ]
    },
    {
      "cell_type": "markdown",
      "metadata": {
        "id": "rqmEh1aCgKCs"
      },
      "source": [
        "**Randomized Forest Classifier Tuned with Randomized Search CV**"
      ]
    },
    {
      "cell_type": "code",
      "metadata": {
        "colab": {
          "base_uri": "https://localhost:8080/"
        },
        "id": "34yXuxomgRaz",
        "outputId": "87e03263-f7a1-4c5e-c152-b8f206113f32"
      },
      "source": [
        "test_acc =  accuracy_score(y_test, model_rfc_rscv.predict(X_test))\n",
        "\n",
        "print('Random Forest Classifier (Hyperparameter Tuned):', test_acc)"
      ],
      "execution_count": 70,
      "outputs": [
        {
          "output_type": "stream",
          "text": [
            "Random Forest Classifier (Hyperparameter Tuned): 0.6239142487525411\n"
          ],
          "name": "stdout"
        }
      ]
    },
    {
      "cell_type": "markdown",
      "metadata": {
        "id": "J9x2irkPgfld"
      },
      "source": [
        "**XGBoost Classifier Tuned with Randomized Search CV**"
      ]
    },
    {
      "cell_type": "code",
      "metadata": {
        "colab": {
          "base_uri": "https://localhost:8080/"
        },
        "id": "mdmju3nqggeh",
        "outputId": "13eeb9ac-7c09-4e4b-b4d1-2204fd2a77e4"
      },
      "source": [
        "test_acc =  accuracy_score(y_test, model_xgb_rscv.predict(X_test))\n",
        "\n",
        "print('XGBoost Classifier (Hyperparameter Tuned):', test_acc)"
      ],
      "execution_count": 71,
      "outputs": [
        {
          "output_type": "stream",
          "text": [
            "XGBoost Classifier (Hyperparameter Tuned): 0.6422719152343991\n"
          ],
          "name": "stdout"
        }
      ]
    }
  ]
}